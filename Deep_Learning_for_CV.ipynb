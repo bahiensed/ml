{
  "nbformat": 4,
  "nbformat_minor": 0,
  "metadata": {
    "colab": {
      "provenance": [],
      "authorship_tag": "ABX9TyOK8NgBV2d4UqQnxmwgCnFS",
      "include_colab_link": true
    },
    "kernelspec": {
      "name": "python3",
      "display_name": "Python 3"
    },
    "language_info": {
      "name": "python"
    }
  },
  "cells": [
    {
      "cell_type": "markdown",
      "metadata": {
        "id": "view-in-github",
        "colab_type": "text"
      },
      "source": [
        "<a href=\"https://colab.research.google.com/github/bahiensed/ml/blob/main/Deep_Learning_for_CV.ipynb\" target=\"_parent\"><img src=\"https://colab.research.google.com/assets/colab-badge.svg\" alt=\"Open In Colab\"/></a>"
      ]
    },
    {
      "cell_type": "markdown",
      "source": [
        "Pré-processamento das imagens.\n",
        "\n",
        "- diminuir imagens para o tamanho pedido por cada algoritmo\n",
        "- colocar a imagem no formato (quadrado) necessário\n",
        "- diminuir os canais de cores (escala de cinza)\n",
        "- aumentar os dados espelhando (flip), invertendo (shift), rotacionando, etc. as imagens\n",
        "\n",
        "O que é mais eficiente, diminuir os canais de cores ou diminuir o tamanho das imagens primeiro?"
      ],
      "metadata": {
        "id": "ovJ-vPmdoycr"
      }
    },
    {
      "cell_type": "code",
      "execution_count": null,
      "metadata": {
        "id": "aZtY2pzUNneu"
      },
      "outputs": [],
      "source": [
        "#import libraries and modules\n",
        "from keras.preprocessing.image import load_img"
      ]
    },
    {
      "cell_type": "code",
      "source": [
        "#load image\n",
        "img = load_img('bondi_beach.jpg')"
      ],
      "metadata": {
        "id": "71f2FjslOCTT"
      },
      "execution_count": null,
      "outputs": []
    },
    {
      "cell_type": "code",
      "source": [
        "#report details about image\n",
        "print(type(img))\n",
        "print(img.format)\n",
        "print(img.mode)\n",
        "print(img.size)"
      ],
      "metadata": {
        "colab": {
          "base_uri": "https://localhost:8080/"
        },
        "id": "okAxdeEwOFRb",
        "outputId": "8d425a58-fe5c-414d-e2a3-b5571feaf44a"
      },
      "execution_count": null,
      "outputs": [
        {
          "output_type": "stream",
          "name": "stdout",
          "text": [
            "<class 'PIL.JpegImagePlugin.JpegImageFile'>\n",
            "JPEG\n",
            "RGB\n",
            "(640, 427)\n"
          ]
        }
      ]
    },
    {
      "cell_type": "code",
      "source": [
        "#show image\n",
        "img.show()"
      ],
      "metadata": {
        "id": "wTDJAHL3OG8K"
      },
      "execution_count": null,
      "outputs": []
    },
    {
      "cell_type": "code",
      "source": [
        "#load and summarize MNIST dataset\n",
        "from keras.datasets import mnist\n",
        "\n",
        "#load dataset\n",
        "(train_images, train_labels), (test_images, test_labels) = mnist.load_data()\n",
        "\n",
        "#dataset shape\n",
        "print('Train', train_images.shape, train_labels.shape)\n",
        "print('Test', (test_images.shape, test_labels.shape))\n",
        "\n",
        "#pixel values\n",
        "print('Train', train_images.min(), train_images.max(), train_images.mean(), train_images.std())\n",
        "print('Test', test_images.min(), test_images.max(), test_images.mean(), test_images.std())"
      ],
      "metadata": {
        "colab": {
          "base_uri": "https://localhost:8080/"
        },
        "id": "JoLuyPgoQUvY",
        "outputId": "613c38db-c0d6-42d4-a275-a3a83092bf38"
      },
      "execution_count": null,
      "outputs": [
        {
          "output_type": "stream",
          "name": "stdout",
          "text": [
            "Train (60000, 28, 28) (60000,)\n",
            "Test ((10000, 28, 28), (10000,))\n",
            "Train 0 255 33.318421449829934 78.56748998339798\n",
            "Test 0 255 33.791224489795916 79.17246322228644\n"
          ]
        }
      ]
    },
    {
      "cell_type": "markdown",
      "source": [
        "Example of expanding dimensions"
      ],
      "metadata": {
        "id": "8j71OZvRjgR9"
      }
    },
    {
      "cell_type": "code",
      "source": [
        "from numpy import asarray\n",
        "from numpy import expand_dims\n",
        "from numpy import moveaxis\n",
        "\n",
        "from PIL import Image\n",
        "\n",
        "\n",
        "#load image\n",
        "img = Image.open('penguin_arade.jpg')\n",
        "\n",
        "#diminish dimensionality\n",
        "#necessary only for colored imgs\n",
        "#convert image to grayscale\n",
        "#img = img.convert(mode='L')\n",
        "\n",
        "#convert to numpy array\n",
        "data = asarray(img)\n",
        "#confirm dimensions\n",
        "print(f'Planta: {data.shape}')\n",
        "\n",
        "#add channels first\n",
        "data_first = expand_dims(data, axis=0)\n",
        "print(f'Planta: {data_first.shape}')\n",
        "\n",
        "#add channels last\n",
        "data_last = expand_dims(data, axis=2)\n",
        "print(f'Planta: {data_last.shape}')\n",
        "\n",
        "data_move_axis = moveaxis(data, 2, 0)\n",
        "print(f'Planta: {data_move_axis.shape}')\n",
        "\n",
        "data_move_axis = moveaxis(data, 0, 2)\n",
        "print(f'Planta: {data_move_axis.shape}')\n"
      ],
      "metadata": {
        "colab": {
          "base_uri": "https://localhost:8080/"
        },
        "id": "MTdWmpl5jN9B",
        "outputId": "084e947e-1544-4e92-84c3-9ffc1f31bb44"
      },
      "execution_count": null,
      "outputs": [
        {
          "output_type": "stream",
          "name": "stdout",
          "text": [
            "Planta: (424, 640, 3)\n",
            "Planta: (1, 424, 640, 3)\n",
            "Planta: (424, 640, 1, 3)\n",
            "Planta: (3, 424, 640)\n",
            "Planta: (640, 3, 424)\n"
          ]
        }
      ]
    },
    {
      "cell_type": "code",
      "source": [
        "# show preferred channel order\n",
        "from keras import backend\n",
        "print(backend.image_data_format())"
      ],
      "metadata": {
        "id": "Ba3WWve6vWYV",
        "outputId": "352c549c-1f80-423e-ef7d-19fc316c88f5",
        "colab": {
          "base_uri": "https://localhost:8080/"
        }
      },
      "execution_count": null,
      "outputs": [
        {
          "output_type": "stream",
          "name": "stdout",
          "text": [
            "channels_last\n"
          ]
        }
      ]
    }
  ]
}