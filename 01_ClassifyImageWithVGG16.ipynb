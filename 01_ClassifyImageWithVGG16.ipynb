{
  "nbformat": 4,
  "nbformat_minor": 0,
  "metadata": {
    "colab": {
      "provenance": [],
      "authorship_tag": "ABX9TyMFYnFe3mYU2cfp/P7nujEB",
      "include_colab_link": true
    },
    "kernelspec": {
      "name": "python3",
      "display_name": "Python 3"
    },
    "language_info": {
      "name": "python"
    }
  },
  "cells": [
    {
      "cell_type": "markdown",
      "metadata": {
        "id": "view-in-github",
        "colab_type": "text"
      },
      "source": [
        "<a href=\"https://colab.research.google.com/github/bahiensed/ml/blob/main/01_ClassifyImageWithVGG16.ipynb\" target=\"_parent\"><img src=\"https://colab.research.google.com/assets/colab-badge.svg\" alt=\"Open In Colab\"/></a>"
      ]
    },
    {
      "cell_type": "code",
      "source": [
        "#import necessary libraries\n",
        "import os\n",
        "import tensorflow as tf\n",
        "import numpy as np\n",
        "import matplotlib.pyplot as plt"
      ],
      "metadata": {
        "id": "iNmhl-WROE4M"
      },
      "execution_count": null,
      "outputs": []
    },
    {
      "cell_type": "code",
      "source": [
        "#image size\n",
        "#see the right value on model's documentation\n",
        "IMAGE_SIZE = 224"
      ],
      "metadata": {
        "id": "IjYitbfWOJ18"
      },
      "execution_count": null,
      "outputs": []
    },
    {
      "cell_type": "code",
      "source": [
        "#image shape\n",
        "IMAGE_SHAPE = (IMAGE_SIZE, IMAGE_SIZE, 3)"
      ],
      "metadata": {
        "id": "5HgR-BR7riJk"
      },
      "execution_count": null,
      "outputs": []
    },
    {
      "cell_type": "code",
      "source": [
        "#image batch size\n",
        "IMG_BATCH_SIZE = 1"
      ],
      "metadata": {
        "id": "zUe1Df1Rrhx9"
      },
      "execution_count": null,
      "outputs": []
    },
    {
      "cell_type": "code",
      "source": [
        "#number of top results to display\n",
        "TOP = 15"
      ],
      "metadata": {
        "id": "6ITt_2WArhGv"
      },
      "execution_count": null,
      "outputs": []
    },
    {
      "cell_type": "code",
      "source": [
        "#get image (function)\n",
        "def get_image_from_url(image_url):\n",
        "  #if temporary test_image.jpg file already exists,\n",
        "  #delete it so a new one can be made.\n",
        "  if os.path.exists('/root/.keras/datasets/test_image.jpg'):\n",
        "    os.remove('/root/.keras/datasets/test_image.jpg')\n",
        "\n",
        "  image_path = tf.keras.utils.get_file('test_image.jpg', origin=image_url)\n",
        "  return image_path"
      ],
      "metadata": {
        "id": "ONFsaJa1ONVC"
      },
      "execution_count": null,
      "outputs": []
    },
    {
      "cell_type": "code",
      "source": [
        "#print classification results (function)\n",
        "def print_classifications(classifications):\n",
        "    for (classification, number) in zip(classifications[0], range(1, len(classifications[0])+1)):\n",
        "      print('{}. {} {:.2f}%'.format(number, classification[1], classification[2]*100))"
      ],
      "metadata": {
        "id": "uP_091BIOV2Y"
      },
      "execution_count": null,
      "outputs": []
    },
    {
      "cell_type": "code",
      "source": [
        "#load model\n",
        "model = tf.keras.applications.VGG16()"
      ],
      "metadata": {
        "id": "fzsuCQ0ZOZJV",
        "colab": {
          "base_uri": "https://localhost:8080/"
        },
        "outputId": "494675ee-8fff-4dec-e654-37f442e1101a"
      },
      "execution_count": null,
      "outputs": [
        {
          "output_type": "stream",
          "name": "stdout",
          "text": [
            "Downloading data from https://storage.googleapis.com/tensorflow/keras-applications/vgg16/vgg16_weights_tf_dim_ordering_tf_kernels.h5\n",
            "553467096/553467096 [==============================] - 5s 0us/step\n"
          ]
        }
      ]
    },
    {
      "cell_type": "code",
      "execution_count": null,
      "metadata": {
        "id": "SmemWsZ5NZCf"
      },
      "outputs": [],
      "source": [
        "#classify image (function)\n",
        "def classify_image(image_url):\n",
        "  #fetch image from URL using the above get image function\n",
        "  image_path = get_image_from_url(image_url)\n",
        "\n",
        "  #prepare image for use by the model\n",
        "  image = tf.keras.preprocessing.image.load_img(image_path, target_size=(IMAGE_SIZE, IMAGE_SIZE))\n",
        "\n",
        "  #create a new figure, or activate an existing one\n",
        "  #https://matplotlib.org/stable/api/_as_gen/matplotlib.pyplot.figure.html\n",
        "  plt.figure()\n",
        "\n",
        "  #display data as an image, i.e., on a 2D regular raster.\n",
        "  #https://matplotlib.org/stable/api/_as_gen/matplotlib.pyplot.imshow.html\n",
        "  plt.imshow(image)\n",
        "\n",
        "  #transform image into an array\n",
        "  image = tf.keras.preprocessing.image.img_to_array(image)\n",
        "  image = np.expand_dims(image, axis=0)\n",
        "\n",
        "  #classifying\n",
        "  classification_result = model.predict(image, batch_size=IMG_BATCH_SIZE)\n",
        "\n",
        "  # narrowing to the top n results\n",
        "  classifications = tf.keras.applications.imagenet_utils.decode_predictions(classification_result, top=TOP)\n",
        "\n",
        "  #print classifications\n",
        "  print_classifications(classifications)"
      ]
    },
    {
      "cell_type": "code",
      "source": [
        "#import and classify image\n",
        "#classify_image('https://upload.wikimedia.org/wikipedia/commons/5/5f/Kolm%C3%A5rden_Wolf.jpg')\n",
        "\n",
        "classify_image('https://t3.gstatic.com/licensed-image?q=tbn:ANd9GcQ1qGCMfIQ7AbRF2TqjRHXz9WbOoLPT6Wb87PGPfHU7iDC6jdoG_v0YIUxv_lKawlFa')"
      ],
      "metadata": {
        "id": "llqGTZnmPSe4"
      },
      "execution_count": null,
      "outputs": []
    }
  ]
}