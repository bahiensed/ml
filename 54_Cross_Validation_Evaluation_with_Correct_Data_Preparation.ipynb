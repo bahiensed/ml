{
  "nbformat": 4,
  "nbformat_minor": 0,
  "metadata": {
    "colab": {
      "provenance": [],
      "authorship_tag": "ABX9TyPg1qvAjqDgW9NWUUS8sO6R",
      "include_colab_link": true
    },
    "kernelspec": {
      "name": "python3",
      "display_name": "Python 3"
    },
    "language_info": {
      "name": "python"
    }
  },
  "cells": [
    {
      "cell_type": "markdown",
      "metadata": {
        "id": "view-in-github",
        "colab_type": "text"
      },
      "source": [
        "<a href=\"https://colab.research.google.com/github/bahiensed/ml/blob/main/04_Cross_Validation_Evaluation_with_Correct_Data_Preparation.ipynb\" target=\"_parent\"><img src=\"https://colab.research.google.com/assets/colab-badge.svg\" alt=\"Open In Colab\"/></a>"
      ]
    },
    {
      "cell_type": "code",
      "execution_count": null,
      "metadata": {
        "id": "9dIK5aCWuU2j"
      },
      "outputs": [],
      "source": [
        "#importa bibliotecas e módulos\n",
        "#numpy\n",
        "from numpy import mean\n",
        "from numpy import std\n",
        "\n",
        "#sklearn\n",
        "from sklearn.datasets import make_classification\n",
        "\n",
        "from sklearn.model_selection import cross_val_score\n",
        "from sklearn.model_selection import RepeatedStratifiedKFold\n",
        "\n",
        "from sklearn.preprocessing import MinMaxScaler\n",
        "\n",
        "from sklearn.linear_model import LogisticRegression\n",
        "\n",
        "from sklearn.pipeline import Pipeline"
      ]
    },
    {
      "cell_type": "code",
      "source": [
        "#parâmetros\n",
        "informative = 15\n",
        "features = 20\n",
        "jobs = -1\n",
        "redundant = 5\n",
        "repeats = 5\n",
        "samples = 1000\n",
        "score = 'accuracy'\n",
        "seed = 13\n",
        "splits = 10"
      ],
      "metadata": {
        "id": "Zb7Fq-VQwH1D"
      },
      "execution_count": null,
      "outputs": []
    },
    {
      "cell_type": "code",
      "source": [
        "# define dataset\n",
        "X, y = make_classification(n_samples=samples, n_features=features, n_informative=informative, n_redundant=redundant, random_state=seed)"
      ],
      "metadata": {
        "id": "K9rsXJHgwGnh"
      },
      "execution_count": null,
      "outputs": []
    },
    {
      "cell_type": "markdown",
      "source": [
        "https://scikit-learn.org/stable/modules/generated/sklearn.datasets.make_classification.html  \n",
        "\n",
        "---"
      ],
      "metadata": {
        "id": "wNkcJffF2-4P"
      }
    },
    {
      "cell_type": "code",
      "source": [
        "#define o pipeline\n",
        "steps = list()\n",
        "steps.append(('scaler', MinMaxScaler()))\n",
        "steps.append(('model', LogisticRegression()))\n",
        "\n",
        "pipeline = Pipeline(steps=steps)"
      ],
      "metadata": {
        "id": "NPERwA09wLn2"
      },
      "execution_count": null,
      "outputs": []
    },
    {
      "cell_type": "code",
      "source": [
        "# define the evaluation procedure\n",
        "cv = RepeatedStratifiedKFold(n_splits=splits, n_repeats=repeats, random_state=seed)"
      ],
      "metadata": {
        "id": "_mYnh6a_wOui"
      },
      "execution_count": null,
      "outputs": []
    },
    {
      "cell_type": "markdown",
      "source": [
        "https://scikit-learn.org/stable/modules/generated/sklearn.model_selection.RepeatedStratifiedKFold.html  \n",
        "https://stackoverflow.com/questions/71181291/differences-between-repeatedstratifiedkfold-and-stratifiedkfold-in-sklearn  \n",
        "\n",
        "---"
      ],
      "metadata": {
        "id": "rAgIMk0t7Ab8"
      }
    },
    {
      "cell_type": "code",
      "source": [
        "# evaluate the model using cross-validation\n",
        "scores = cross_val_score(pipeline, X, y, scoring=score, cv=cv, n_jobs=jobs)"
      ],
      "metadata": {
        "id": "Gm244H7IwRTT"
      },
      "execution_count": null,
      "outputs": []
    },
    {
      "cell_type": "markdown",
      "source": [
        "https://scikit-learn.org/stable/modules/generated/sklearn.model_selection.cross_val_score.html  \n",
        "\n",
        "---"
      ],
      "metadata": {
        "id": "-9Y82Kja98xf"
      }
    },
    {
      "cell_type": "code",
      "source": [
        "# report performance\n",
        "print(mean(scores))\n",
        "print('Accuracy: %.3f (%.3f)' % (mean(scores)*100, std(scores)*100))"
      ],
      "metadata": {
        "colab": {
          "base_uri": "https://localhost:8080/"
        },
        "id": "5zx4fqZ1wTtc",
        "outputId": "1e782937-320d-4de7-cac8-b71602db2c5e"
      },
      "execution_count": null,
      "outputs": [
        {
          "output_type": "stream",
          "name": "stdout",
          "text": [
            "0.9088\n",
            "Accuracy: 90.880 (2.535)\n"
          ]
        }
      ]
    }
  ]
}
