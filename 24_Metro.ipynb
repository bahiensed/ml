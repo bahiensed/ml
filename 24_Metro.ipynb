{
  "nbformat": 4,
  "nbformat_minor": 0,
  "metadata": {
    "colab": {
      "provenance": [],
      "collapsed_sections": [
        "7bdJfdhWA5Ql",
        "QK_EFDA6UPQz",
        "c2NawlGj-O0P",
        "4Wn-83xW-x-w",
        "MaDSyZVjuQtq",
        "3ajvjvGi7J8M",
        "lNBcgz-pFzIc",
        "Yii1kf388WDk",
        "OMhxSd7VG0G2",
        "GMzLnmDU8coc",
        "eU35sYt_KayC",
        "HtNYlzkiKh0l",
        "VQ2u6GHOK2ex",
        "QveZ7o6jLfbf",
        "G1qSMOoCL4oj",
        "MpF20bDIL-tk",
        "3fgG00GtOoCU",
        "r6NsoumR7rNk",
        "5odH8NZtf72t",
        "UjnsGg8erVg9",
        "pGN4nTqn-1kx",
        "Ad1Bv7dDHlq-",
        "q7F8seJyspvc",
        "nYHqusW4Im63",
        "Ah1niuXdJI8M",
        "M6v2tgUWJgsW"
      ],
      "authorship_tag": "ABX9TyOsY/lmMziVNuXQ7YI7M7XA",
      "include_colab_link": true
    },
    "kernelspec": {
      "name": "python3",
      "display_name": "Python 3"
    },
    "language_info": {
      "name": "python"
    }
  },
  "cells": [
    {
      "cell_type": "markdown",
      "metadata": {
        "id": "view-in-github",
        "colab_type": "text"
      },
      "source": [
        "<a href=\"https://colab.research.google.com/github/bahiensed/ml/blob/main/04_Metro.ipynb\" target=\"_parent\"><img src=\"https://colab.research.google.com/assets/colab-badge.svg\" alt=\"Open In Colab\"/></a>"
      ]
    },
    {
      "cell_type": "markdown",
      "source": [
        "# **IV. PROBLEMA DE REGRESSÃO**"
      ],
      "metadata": {
        "id": "7bdJfdhWA5Ql"
      }
    },
    {
      "cell_type": "markdown",
      "source": [
        "# 1. Preparativos\n",
        "---"
      ],
      "metadata": {
        "id": "QK_EFDA6UPQz"
      }
    },
    {
      "cell_type": "markdown",
      "source": [
        "## 1.1 Importar Bibliotecas e Módulos"
      ],
      "metadata": {
        "id": "c2NawlGj-O0P"
      }
    },
    {
      "cell_type": "code",
      "source": [
        "#importar bibliotecas e módulos necessários\n",
        "import numpy\n",
        "from numpy import arange\n",
        "from numpy import set_printoptions\n",
        "\n",
        "from matplotlib import pyplot\n",
        "\n",
        "from pandas import read_csv\n",
        "from pandas import set_option\n",
        "from pandas.plotting import scatter_matrix\n",
        "\n",
        "from sklearn.preprocessing import StandardScaler\n",
        "\n",
        "from sklearn.model_selection import train_test_split\n",
        "from sklearn.model_selection import KFold\n",
        "from sklearn.model_selection import cross_val_score\n",
        "from sklearn.model_selection import GridSearchCV\n",
        "\n",
        "from sklearn.linear_model import LinearRegression\n",
        "from sklearn.linear_model import Lasso\n",
        "from sklearn.linear_model import ElasticNet\n",
        "from sklearn.tree import DecisionTreeRegressor\n",
        "from sklearn.neighbors import KNeighborsRegressor\n",
        "from sklearn.svm import SVR\n",
        "\n",
        "from sklearn.pipeline import Pipeline\n",
        "\n",
        "from sklearn.ensemble import RandomForestRegressor\n",
        "from sklearn.ensemble import GradientBoostingRegressor\n",
        "from sklearn.ensemble import ExtraTreesRegressor\n",
        "from sklearn.ensemble import AdaBoostRegressor\n",
        "\n",
        "from sklearn.metrics import mean_squared_error\n",
        "\n",
        "import joblib"
      ],
      "metadata": {
        "id": "NcO7g25P-aBs"
      },
      "execution_count": null,
      "outputs": []
    },
    {
      "cell_type": "markdown",
      "source": [
        "## 1.2 Parâmetros"
      ],
      "metadata": {
        "id": "4Wn-83xW-x-w"
      }
    },
    {
      "cell_type": "code",
      "source": [
        "# Opções e métricas para treino e teste\n",
        "test_size = 0.20\n",
        "seed = 7\n",
        "num_folds = 10\n",
        "scoring = 'neg_mean_squared_error'"
      ],
      "metadata": {
        "id": "WCxljMYs_WwZ"
      },
      "execution_count": null,
      "outputs": []
    },
    {
      "cell_type": "markdown",
      "source": [
        "# 2. Dados\n",
        "---"
      ],
      "metadata": {
        "id": "MaDSyZVjuQtq"
      }
    },
    {
      "cell_type": "markdown",
      "source": [
        "## 2.1 Obter Dados"
      ],
      "metadata": {
        "id": "3ajvjvGi7J8M"
      }
    },
    {
      "cell_type": "code",
      "source": [
        "#endereço dos dados originais\n",
        "#pode ser modificado para endereço local na própria máquina\n",
        "url = \"https://gist.githubusercontent.com/dbahiense/71a84ad6965874e4446d409b227ae304/raw/690f040fd5ea03148e922a9e5aee53f5a46f60c6/metro.csv\"\n",
        "\n",
        "#nome dos atributos\n",
        "columns = ['holiday','temp','rain_1h','snow_1h','clouds_all','weather_main','weather_description','date_time','traffic_volume']\n",
        "\n",
        "#lê o arquivo\n",
        "data = read_csv(url, names=columns)"
      ],
      "metadata": {
        "id": "iDImqQuu-lLe"
      },
      "execution_count": null,
      "outputs": []
    },
    {
      "cell_type": "markdown",
      "source": [
        "## 2.2 Entender Dados"
      ],
      "metadata": {
        "id": "lNBcgz-pFzIc"
      }
    },
    {
      "cell_type": "markdown",
      "source": [
        "### 2.2.1 Descrever Dados"
      ],
      "metadata": {
        "id": "Yii1kf388WDk"
      }
    },
    {
      "cell_type": "code",
      "execution_count": null,
      "metadata": {
        "colab": {
          "base_uri": "https://localhost:8080/"
        },
        "id": "5YHs1elW38lw",
        "outputId": "128986b2-04f7-43af-e810-67091b85905e"
      },
      "outputs": [
        {
          "output_type": "execute_result",
          "data": {
            "text/plain": [
              "(48204, 9)"
            ]
          },
          "metadata": {},
          "execution_count": 4
        }
      ],
      "source": [
        "#mostra as dimensões do dataset\n",
        "shape = data.shape #(linhas, colunas)\n",
        "shape"
      ]
    },
    {
      "cell_type": "code",
      "source": [
        "#mostra as primeiras n instâncias dos dados\n",
        "peek = data.head() #head(n) para mostrar as primeiras n linhas, default n = 5\n",
        "peek"
      ],
      "metadata": {
        "colab": {
          "base_uri": "https://localhost:8080/"
        },
        "id": "NuRDv18ODau_",
        "outputId": "2b6e6760-6870-46c2-c3cc-2b153bedf1dd"
      },
      "execution_count": null,
      "outputs": [
        {
          "output_type": "execute_result",
          "data": {
            "text/plain": [
              "  holiday    temp  rain_1h  snow_1h  clouds_all weather_main  \\\n",
              "0    None  288.28      0.0      0.0          40       Clouds   \n",
              "1    None  289.36      0.0      0.0          75       Clouds   \n",
              "2    None  289.58      0.0      0.0          90       Clouds   \n",
              "3    None  290.13      0.0      0.0          90       Clouds   \n",
              "4    None  291.14      0.0      0.0          75       Clouds   \n",
              "\n",
              "  weather_description            date_time  traffic_volume  \n",
              "0    scattered clouds  2012-10-02 09:00:00            5545  \n",
              "1       broken clouds  2012-10-02 10:00:00            4516  \n",
              "2     overcast clouds  2012-10-02 11:00:00            4767  \n",
              "3     overcast clouds  2012-10-02 12:00:00            5026  \n",
              "4       broken clouds  2012-10-02 13:00:00            4918  "
            ],
            "text/html": [
              "\n",
              "  <div id=\"df-0fef7cf0-a26a-4761-87a8-92d5c41b278c\">\n",
              "    <div class=\"colab-df-container\">\n",
              "      <div>\n",
              "<style scoped>\n",
              "    .dataframe tbody tr th:only-of-type {\n",
              "        vertical-align: middle;\n",
              "    }\n",
              "\n",
              "    .dataframe tbody tr th {\n",
              "        vertical-align: top;\n",
              "    }\n",
              "\n",
              "    .dataframe thead th {\n",
              "        text-align: right;\n",
              "    }\n",
              "</style>\n",
              "<table border=\"1\" class=\"dataframe\">\n",
              "  <thead>\n",
              "    <tr style=\"text-align: right;\">\n",
              "      <th></th>\n",
              "      <th>holiday</th>\n",
              "      <th>temp</th>\n",
              "      <th>rain_1h</th>\n",
              "      <th>snow_1h</th>\n",
              "      <th>clouds_all</th>\n",
              "      <th>weather_main</th>\n",
              "      <th>weather_description</th>\n",
              "      <th>date_time</th>\n",
              "      <th>traffic_volume</th>\n",
              "    </tr>\n",
              "  </thead>\n",
              "  <tbody>\n",
              "    <tr>\n",
              "      <th>0</th>\n",
              "      <td>None</td>\n",
              "      <td>288.28</td>\n",
              "      <td>0.0</td>\n",
              "      <td>0.0</td>\n",
              "      <td>40</td>\n",
              "      <td>Clouds</td>\n",
              "      <td>scattered clouds</td>\n",
              "      <td>2012-10-02 09:00:00</td>\n",
              "      <td>5545</td>\n",
              "    </tr>\n",
              "    <tr>\n",
              "      <th>1</th>\n",
              "      <td>None</td>\n",
              "      <td>289.36</td>\n",
              "      <td>0.0</td>\n",
              "      <td>0.0</td>\n",
              "      <td>75</td>\n",
              "      <td>Clouds</td>\n",
              "      <td>broken clouds</td>\n",
              "      <td>2012-10-02 10:00:00</td>\n",
              "      <td>4516</td>\n",
              "    </tr>\n",
              "    <tr>\n",
              "      <th>2</th>\n",
              "      <td>None</td>\n",
              "      <td>289.58</td>\n",
              "      <td>0.0</td>\n",
              "      <td>0.0</td>\n",
              "      <td>90</td>\n",
              "      <td>Clouds</td>\n",
              "      <td>overcast clouds</td>\n",
              "      <td>2012-10-02 11:00:00</td>\n",
              "      <td>4767</td>\n",
              "    </tr>\n",
              "    <tr>\n",
              "      <th>3</th>\n",
              "      <td>None</td>\n",
              "      <td>290.13</td>\n",
              "      <td>0.0</td>\n",
              "      <td>0.0</td>\n",
              "      <td>90</td>\n",
              "      <td>Clouds</td>\n",
              "      <td>overcast clouds</td>\n",
              "      <td>2012-10-02 12:00:00</td>\n",
              "      <td>5026</td>\n",
              "    </tr>\n",
              "    <tr>\n",
              "      <th>4</th>\n",
              "      <td>None</td>\n",
              "      <td>291.14</td>\n",
              "      <td>0.0</td>\n",
              "      <td>0.0</td>\n",
              "      <td>75</td>\n",
              "      <td>Clouds</td>\n",
              "      <td>broken clouds</td>\n",
              "      <td>2012-10-02 13:00:00</td>\n",
              "      <td>4918</td>\n",
              "    </tr>\n",
              "  </tbody>\n",
              "</table>\n",
              "</div>\n",
              "      <button class=\"colab-df-convert\" onclick=\"convertToInteractive('df-0fef7cf0-a26a-4761-87a8-92d5c41b278c')\"\n",
              "              title=\"Convert this dataframe to an interactive table.\"\n",
              "              style=\"display:none;\">\n",
              "        \n",
              "  <svg xmlns=\"http://www.w3.org/2000/svg\" height=\"24px\"viewBox=\"0 0 24 24\"\n",
              "       width=\"24px\">\n",
              "    <path d=\"M0 0h24v24H0V0z\" fill=\"none\"/>\n",
              "    <path d=\"M18.56 5.44l.94 2.06.94-2.06 2.06-.94-2.06-.94-.94-2.06-.94 2.06-2.06.94zm-11 1L8.5 8.5l.94-2.06 2.06-.94-2.06-.94L8.5 2.5l-.94 2.06-2.06.94zm10 10l.94 2.06.94-2.06 2.06-.94-2.06-.94-.94-2.06-.94 2.06-2.06.94z\"/><path d=\"M17.41 7.96l-1.37-1.37c-.4-.4-.92-.59-1.43-.59-.52 0-1.04.2-1.43.59L10.3 9.45l-7.72 7.72c-.78.78-.78 2.05 0 2.83L4 21.41c.39.39.9.59 1.41.59.51 0 1.02-.2 1.41-.59l7.78-7.78 2.81-2.81c.8-.78.8-2.07 0-2.86zM5.41 20L4 18.59l7.72-7.72 1.47 1.35L5.41 20z\"/>\n",
              "  </svg>\n",
              "      </button>\n",
              "      \n",
              "  <style>\n",
              "    .colab-df-container {\n",
              "      display:flex;\n",
              "      flex-wrap:wrap;\n",
              "      gap: 12px;\n",
              "    }\n",
              "\n",
              "    .colab-df-convert {\n",
              "      background-color: #E8F0FE;\n",
              "      border: none;\n",
              "      border-radius: 50%;\n",
              "      cursor: pointer;\n",
              "      display: none;\n",
              "      fill: #1967D2;\n",
              "      height: 32px;\n",
              "      padding: 0 0 0 0;\n",
              "      width: 32px;\n",
              "    }\n",
              "\n",
              "    .colab-df-convert:hover {\n",
              "      background-color: #E2EBFA;\n",
              "      box-shadow: 0px 1px 2px rgba(60, 64, 67, 0.3), 0px 1px 3px 1px rgba(60, 64, 67, 0.15);\n",
              "      fill: #174EA6;\n",
              "    }\n",
              "\n",
              "    [theme=dark] .colab-df-convert {\n",
              "      background-color: #3B4455;\n",
              "      fill: #D2E3FC;\n",
              "    }\n",
              "\n",
              "    [theme=dark] .colab-df-convert:hover {\n",
              "      background-color: #434B5C;\n",
              "      box-shadow: 0px 1px 3px 1px rgba(0, 0, 0, 0.15);\n",
              "      filter: drop-shadow(0px 1px 2px rgba(0, 0, 0, 0.3));\n",
              "      fill: #FFFFFF;\n",
              "    }\n",
              "  </style>\n",
              "\n",
              "      <script>\n",
              "        const buttonEl =\n",
              "          document.querySelector('#df-0fef7cf0-a26a-4761-87a8-92d5c41b278c button.colab-df-convert');\n",
              "        buttonEl.style.display =\n",
              "          google.colab.kernel.accessAllowed ? 'block' : 'none';\n",
              "\n",
              "        async function convertToInteractive(key) {\n",
              "          const element = document.querySelector('#df-0fef7cf0-a26a-4761-87a8-92d5c41b278c');\n",
              "          const dataTable =\n",
              "            await google.colab.kernel.invokeFunction('convertToInteractive',\n",
              "                                                     [key], {});\n",
              "          if (!dataTable) return;\n",
              "\n",
              "          const docLinkHtml = 'Like what you see? Visit the ' +\n",
              "            '<a target=\"_blank\" href=https://colab.research.google.com/notebooks/data_table.ipynb>data table notebook</a>'\n",
              "            + ' to learn more about interactive tables.';\n",
              "          element.innerHTML = '';\n",
              "          dataTable['output_type'] = 'display_data';\n",
              "          await google.colab.output.renderOutput(dataTable, element);\n",
              "          const docLink = document.createElement('div');\n",
              "          docLink.innerHTML = docLinkHtml;\n",
              "          element.appendChild(docLink);\n",
              "        }\n",
              "      </script>\n",
              "    </div>\n",
              "  </div>\n",
              "  "
            ]
          },
          "metadata": {},
          "execution_count": 5
        }
      ]
    },
    {
      "cell_type": "code",
      "source": [
        "#mostra os tipos de dados de cada atributo (coluna)\n",
        "types = data.dtypes\n",
        "types"
      ],
      "metadata": {
        "colab": {
          "base_uri": "https://localhost:8080/"
        },
        "id": "Ec-KoJE8HW8A",
        "outputId": "0dc1662d-1d13-4110-a864-09f71bd2504f"
      },
      "execution_count": null,
      "outputs": [
        {
          "output_type": "execute_result",
          "data": {
            "text/plain": [
              "holiday                 object\n",
              "temp                   float64\n",
              "rain_1h                float64\n",
              "snow_1h                float64\n",
              "clouds_all               int64\n",
              "weather_main            object\n",
              "weather_description     object\n",
              "date_time               object\n",
              "traffic_volume           int64\n",
              "dtype: object"
            ]
          },
          "metadata": {},
          "execution_count": 6
        }
      ]
    },
    {
      "cell_type": "code",
      "source": [
        "#lista valores únicos das colunas não numéricas\n",
        "#holiday, weather_main, weather_description\n",
        "holidays = data['holiday'].unique()\n",
        "weather_main = data['weather_main'].unique()\n",
        "weather_descriptions = data['weather_description'].unique()\n",
        "\n",
        "#print(holidays)\n",
        "print(weather_main)\n",
        "#print(weather_descriptions)\n",
        "\n",
        "#https://sparkbyexamples.com/pandas/pandas-find-unique-values-from-columns/"
      ],
      "metadata": {
        "colab": {
          "base_uri": "https://localhost:8080/"
        },
        "id": "53tEajxpwpdd",
        "outputId": "25585fb0-19f4-4564-e23d-c14b4f650b55"
      },
      "execution_count": null,
      "outputs": [
        {
          "output_type": "stream",
          "name": "stdout",
          "text": [
            "['Clouds' 'Clear' 'Rain' 'Drizzle' 'Mist' 'Haze' 'Fog' 'Thunderstorm'\n",
            " 'Snow' 'Squall' 'Smoke']\n"
          ]
        }
      ]
    },
    {
      "cell_type": "code",
      "source": [
        "def holi(x):\n",
        "  if x == 'None':\n",
        "    return 0\n",
        "  elif x == 'Columbus Day':\n",
        "    return 1\n",
        "  elif x == 'Veterans Day':\n",
        "    return 2\n",
        "  elif x == 'Thanksgiving Day':\n",
        "    return 3\n",
        "  elif x == 'Christmas Day':\n",
        "    return 4\n",
        "  elif x == 'New Years Day':\n",
        "    return 5\n",
        "  elif x == 'Washingtons Birthday':\n",
        "    return 6\n",
        "  elif x == 'Memorial Day':\n",
        "    return 7\n",
        "  elif x == 'Independence Day':\n",
        "    return 8\n",
        "  elif x == 'State Fair':\n",
        "    return 9\n",
        "  elif x == 'Labor Day':\n",
        "    return 10\n",
        "  elif x == 'Martin Luther King Jr Day':\n",
        "    return 11\n",
        "\n",
        "def main(y):\n",
        "  if y == 'Clouds':\n",
        "    return 0\n",
        "  elif y == 'Clear':\n",
        "    return 1\n",
        "  elif y == 'Rain':\n",
        "    return 2\n",
        "  elif y == 'Drizzle':\n",
        "    return 3\n",
        "  elif y == 'Mist':\n",
        "    return 4\n",
        "  elif y == 'Haze':\n",
        "    return 5\n",
        "  elif y == 'Fog':\n",
        "    return 6\n",
        "  elif 'Thunderstorm':\n",
        "    return 7\n",
        "  elif 'Snow':\n",
        "    return 8\n",
        "  elif 'Squall':\n",
        "    return 9\n",
        "  elif 'Smoke':\n",
        "    return 10\n",
        "\n",
        "data['holinumber'] = data.holiday.apply(holi)\n",
        "data['w_main_num'] = data.weather_main.apply(main)\n",
        "\n",
        "\n",
        "data = data[['holinumber', 'temp',\t'rain_1h',\t'snow_1h',\t'clouds_all', 'w_main_num',\t'date_time',\t'holiday',\t'weather_main',\t'weather_description', 'traffic_volume']]\n",
        "\n",
        "data"
      ],
      "metadata": {
        "colab": {
          "base_uri": "https://localhost:8080/"
        },
        "id": "Nl3EHtsMymXp",
        "outputId": "90130695-24d8-46fa-cb34-e7421cd18ed9"
      },
      "execution_count": null,
      "outputs": [
        {
          "output_type": "execute_result",
          "data": {
            "text/plain": [
              "       holinumber    temp  rain_1h  snow_1h  clouds_all  w_main_num  \\\n",
              "0               0  288.28      0.0      0.0          40           0   \n",
              "1               0  289.36      0.0      0.0          75           0   \n",
              "2               0  289.58      0.0      0.0          90           0   \n",
              "3               0  290.13      0.0      0.0          90           0   \n",
              "4               0  291.14      0.0      0.0          75           0   \n",
              "...           ...     ...      ...      ...         ...         ...   \n",
              "48199           0  283.45      0.0      0.0          75           0   \n",
              "48200           0  282.76      0.0      0.0          90           0   \n",
              "48201           0  282.73      0.0      0.0          90           7   \n",
              "48202           0  282.09      0.0      0.0          90           0   \n",
              "48203           0  282.12      0.0      0.0          90           0   \n",
              "\n",
              "                 date_time holiday  weather_main     weather_description  \\\n",
              "0      2012-10-02 09:00:00    None        Clouds        scattered clouds   \n",
              "1      2012-10-02 10:00:00    None        Clouds           broken clouds   \n",
              "2      2012-10-02 11:00:00    None        Clouds         overcast clouds   \n",
              "3      2012-10-02 12:00:00    None        Clouds         overcast clouds   \n",
              "4      2012-10-02 13:00:00    None        Clouds           broken clouds   \n",
              "...                    ...     ...           ...                     ...   \n",
              "48199  2018-09-30 19:00:00    None        Clouds           broken clouds   \n",
              "48200  2018-09-30 20:00:00    None        Clouds         overcast clouds   \n",
              "48201  2018-09-30 21:00:00    None  Thunderstorm  proximity thunderstorm   \n",
              "48202  2018-09-30 22:00:00    None        Clouds         overcast clouds   \n",
              "48203  2018-09-30 23:00:00    None        Clouds         overcast clouds   \n",
              "\n",
              "       traffic_volume  \n",
              "0                5545  \n",
              "1                4516  \n",
              "2                4767  \n",
              "3                5026  \n",
              "4                4918  \n",
              "...               ...  \n",
              "48199            3543  \n",
              "48200            2781  \n",
              "48201            2159  \n",
              "48202            1450  \n",
              "48203             954  \n",
              "\n",
              "[48204 rows x 11 columns]"
            ],
            "text/html": [
              "\n",
              "  <div id=\"df-aa659563-2ecf-4115-92ea-ee7a1cf931e6\">\n",
              "    <div class=\"colab-df-container\">\n",
              "      <div>\n",
              "<style scoped>\n",
              "    .dataframe tbody tr th:only-of-type {\n",
              "        vertical-align: middle;\n",
              "    }\n",
              "\n",
              "    .dataframe tbody tr th {\n",
              "        vertical-align: top;\n",
              "    }\n",
              "\n",
              "    .dataframe thead th {\n",
              "        text-align: right;\n",
              "    }\n",
              "</style>\n",
              "<table border=\"1\" class=\"dataframe\">\n",
              "  <thead>\n",
              "    <tr style=\"text-align: right;\">\n",
              "      <th></th>\n",
              "      <th>holinumber</th>\n",
              "      <th>temp</th>\n",
              "      <th>rain_1h</th>\n",
              "      <th>snow_1h</th>\n",
              "      <th>clouds_all</th>\n",
              "      <th>w_main_num</th>\n",
              "      <th>date_time</th>\n",
              "      <th>holiday</th>\n",
              "      <th>weather_main</th>\n",
              "      <th>weather_description</th>\n",
              "      <th>traffic_volume</th>\n",
              "    </tr>\n",
              "  </thead>\n",
              "  <tbody>\n",
              "    <tr>\n",
              "      <th>0</th>\n",
              "      <td>0</td>\n",
              "      <td>288.28</td>\n",
              "      <td>0.0</td>\n",
              "      <td>0.0</td>\n",
              "      <td>40</td>\n",
              "      <td>0</td>\n",
              "      <td>2012-10-02 09:00:00</td>\n",
              "      <td>None</td>\n",
              "      <td>Clouds</td>\n",
              "      <td>scattered clouds</td>\n",
              "      <td>5545</td>\n",
              "    </tr>\n",
              "    <tr>\n",
              "      <th>1</th>\n",
              "      <td>0</td>\n",
              "      <td>289.36</td>\n",
              "      <td>0.0</td>\n",
              "      <td>0.0</td>\n",
              "      <td>75</td>\n",
              "      <td>0</td>\n",
              "      <td>2012-10-02 10:00:00</td>\n",
              "      <td>None</td>\n",
              "      <td>Clouds</td>\n",
              "      <td>broken clouds</td>\n",
              "      <td>4516</td>\n",
              "    </tr>\n",
              "    <tr>\n",
              "      <th>2</th>\n",
              "      <td>0</td>\n",
              "      <td>289.58</td>\n",
              "      <td>0.0</td>\n",
              "      <td>0.0</td>\n",
              "      <td>90</td>\n",
              "      <td>0</td>\n",
              "      <td>2012-10-02 11:00:00</td>\n",
              "      <td>None</td>\n",
              "      <td>Clouds</td>\n",
              "      <td>overcast clouds</td>\n",
              "      <td>4767</td>\n",
              "    </tr>\n",
              "    <tr>\n",
              "      <th>3</th>\n",
              "      <td>0</td>\n",
              "      <td>290.13</td>\n",
              "      <td>0.0</td>\n",
              "      <td>0.0</td>\n",
              "      <td>90</td>\n",
              "      <td>0</td>\n",
              "      <td>2012-10-02 12:00:00</td>\n",
              "      <td>None</td>\n",
              "      <td>Clouds</td>\n",
              "      <td>overcast clouds</td>\n",
              "      <td>5026</td>\n",
              "    </tr>\n",
              "    <tr>\n",
              "      <th>4</th>\n",
              "      <td>0</td>\n",
              "      <td>291.14</td>\n",
              "      <td>0.0</td>\n",
              "      <td>0.0</td>\n",
              "      <td>75</td>\n",
              "      <td>0</td>\n",
              "      <td>2012-10-02 13:00:00</td>\n",
              "      <td>None</td>\n",
              "      <td>Clouds</td>\n",
              "      <td>broken clouds</td>\n",
              "      <td>4918</td>\n",
              "    </tr>\n",
              "    <tr>\n",
              "      <th>...</th>\n",
              "      <td>...</td>\n",
              "      <td>...</td>\n",
              "      <td>...</td>\n",
              "      <td>...</td>\n",
              "      <td>...</td>\n",
              "      <td>...</td>\n",
              "      <td>...</td>\n",
              "      <td>...</td>\n",
              "      <td>...</td>\n",
              "      <td>...</td>\n",
              "      <td>...</td>\n",
              "    </tr>\n",
              "    <tr>\n",
              "      <th>48199</th>\n",
              "      <td>0</td>\n",
              "      <td>283.45</td>\n",
              "      <td>0.0</td>\n",
              "      <td>0.0</td>\n",
              "      <td>75</td>\n",
              "      <td>0</td>\n",
              "      <td>2018-09-30 19:00:00</td>\n",
              "      <td>None</td>\n",
              "      <td>Clouds</td>\n",
              "      <td>broken clouds</td>\n",
              "      <td>3543</td>\n",
              "    </tr>\n",
              "    <tr>\n",
              "      <th>48200</th>\n",
              "      <td>0</td>\n",
              "      <td>282.76</td>\n",
              "      <td>0.0</td>\n",
              "      <td>0.0</td>\n",
              "      <td>90</td>\n",
              "      <td>0</td>\n",
              "      <td>2018-09-30 20:00:00</td>\n",
              "      <td>None</td>\n",
              "      <td>Clouds</td>\n",
              "      <td>overcast clouds</td>\n",
              "      <td>2781</td>\n",
              "    </tr>\n",
              "    <tr>\n",
              "      <th>48201</th>\n",
              "      <td>0</td>\n",
              "      <td>282.73</td>\n",
              "      <td>0.0</td>\n",
              "      <td>0.0</td>\n",
              "      <td>90</td>\n",
              "      <td>7</td>\n",
              "      <td>2018-09-30 21:00:00</td>\n",
              "      <td>None</td>\n",
              "      <td>Thunderstorm</td>\n",
              "      <td>proximity thunderstorm</td>\n",
              "      <td>2159</td>\n",
              "    </tr>\n",
              "    <tr>\n",
              "      <th>48202</th>\n",
              "      <td>0</td>\n",
              "      <td>282.09</td>\n",
              "      <td>0.0</td>\n",
              "      <td>0.0</td>\n",
              "      <td>90</td>\n",
              "      <td>0</td>\n",
              "      <td>2018-09-30 22:00:00</td>\n",
              "      <td>None</td>\n",
              "      <td>Clouds</td>\n",
              "      <td>overcast clouds</td>\n",
              "      <td>1450</td>\n",
              "    </tr>\n",
              "    <tr>\n",
              "      <th>48203</th>\n",
              "      <td>0</td>\n",
              "      <td>282.12</td>\n",
              "      <td>0.0</td>\n",
              "      <td>0.0</td>\n",
              "      <td>90</td>\n",
              "      <td>0</td>\n",
              "      <td>2018-09-30 23:00:00</td>\n",
              "      <td>None</td>\n",
              "      <td>Clouds</td>\n",
              "      <td>overcast clouds</td>\n",
              "      <td>954</td>\n",
              "    </tr>\n",
              "  </tbody>\n",
              "</table>\n",
              "<p>48204 rows × 11 columns</p>\n",
              "</div>\n",
              "      <button class=\"colab-df-convert\" onclick=\"convertToInteractive('df-aa659563-2ecf-4115-92ea-ee7a1cf931e6')\"\n",
              "              title=\"Convert this dataframe to an interactive table.\"\n",
              "              style=\"display:none;\">\n",
              "        \n",
              "  <svg xmlns=\"http://www.w3.org/2000/svg\" height=\"24px\"viewBox=\"0 0 24 24\"\n",
              "       width=\"24px\">\n",
              "    <path d=\"M0 0h24v24H0V0z\" fill=\"none\"/>\n",
              "    <path d=\"M18.56 5.44l.94 2.06.94-2.06 2.06-.94-2.06-.94-.94-2.06-.94 2.06-2.06.94zm-11 1L8.5 8.5l.94-2.06 2.06-.94-2.06-.94L8.5 2.5l-.94 2.06-2.06.94zm10 10l.94 2.06.94-2.06 2.06-.94-2.06-.94-.94-2.06-.94 2.06-2.06.94z\"/><path d=\"M17.41 7.96l-1.37-1.37c-.4-.4-.92-.59-1.43-.59-.52 0-1.04.2-1.43.59L10.3 9.45l-7.72 7.72c-.78.78-.78 2.05 0 2.83L4 21.41c.39.39.9.59 1.41.59.51 0 1.02-.2 1.41-.59l7.78-7.78 2.81-2.81c.8-.78.8-2.07 0-2.86zM5.41 20L4 18.59l7.72-7.72 1.47 1.35L5.41 20z\"/>\n",
              "  </svg>\n",
              "      </button>\n",
              "      \n",
              "  <style>\n",
              "    .colab-df-container {\n",
              "      display:flex;\n",
              "      flex-wrap:wrap;\n",
              "      gap: 12px;\n",
              "    }\n",
              "\n",
              "    .colab-df-convert {\n",
              "      background-color: #E8F0FE;\n",
              "      border: none;\n",
              "      border-radius: 50%;\n",
              "      cursor: pointer;\n",
              "      display: none;\n",
              "      fill: #1967D2;\n",
              "      height: 32px;\n",
              "      padding: 0 0 0 0;\n",
              "      width: 32px;\n",
              "    }\n",
              "\n",
              "    .colab-df-convert:hover {\n",
              "      background-color: #E2EBFA;\n",
              "      box-shadow: 0px 1px 2px rgba(60, 64, 67, 0.3), 0px 1px 3px 1px rgba(60, 64, 67, 0.15);\n",
              "      fill: #174EA6;\n",
              "    }\n",
              "\n",
              "    [theme=dark] .colab-df-convert {\n",
              "      background-color: #3B4455;\n",
              "      fill: #D2E3FC;\n",
              "    }\n",
              "\n",
              "    [theme=dark] .colab-df-convert:hover {\n",
              "      background-color: #434B5C;\n",
              "      box-shadow: 0px 1px 3px 1px rgba(0, 0, 0, 0.15);\n",
              "      filter: drop-shadow(0px 1px 2px rgba(0, 0, 0, 0.3));\n",
              "      fill: #FFFFFF;\n",
              "    }\n",
              "  </style>\n",
              "\n",
              "      <script>\n",
              "        const buttonEl =\n",
              "          document.querySelector('#df-aa659563-2ecf-4115-92ea-ee7a1cf931e6 button.colab-df-convert');\n",
              "        buttonEl.style.display =\n",
              "          google.colab.kernel.accessAllowed ? 'block' : 'none';\n",
              "\n",
              "        async function convertToInteractive(key) {\n",
              "          const element = document.querySelector('#df-aa659563-2ecf-4115-92ea-ee7a1cf931e6');\n",
              "          const dataTable =\n",
              "            await google.colab.kernel.invokeFunction('convertToInteractive',\n",
              "                                                     [key], {});\n",
              "          if (!dataTable) return;\n",
              "\n",
              "          const docLinkHtml = 'Like what you see? Visit the ' +\n",
              "            '<a target=\"_blank\" href=https://colab.research.google.com/notebooks/data_table.ipynb>data table notebook</a>'\n",
              "            + ' to learn more about interactive tables.';\n",
              "          element.innerHTML = '';\n",
              "          dataTable['output_type'] = 'display_data';\n",
              "          await google.colab.output.renderOutput(dataTable, element);\n",
              "          const docLink = document.createElement('div');\n",
              "          docLink.innerHTML = docLinkHtml;\n",
              "          element.appendChild(docLink);\n",
              "        }\n",
              "      </script>\n",
              "    </div>\n",
              "  </div>\n",
              "  "
            ]
          },
          "metadata": {},
          "execution_count": 8
        }
      ]
    },
    {
      "cell_type": "markdown",
      "source": [
        "### 2.2.2 Estatística Descritiva"
      ],
      "metadata": {
        "id": "OMhxSd7VG0G2"
      }
    },
    {
      "cell_type": "code",
      "source": [
        "#mostra os dados estatísticos de cada atributo (coluna)\n",
        "set_option('precision', 1) #precisão de uma casa decimal após a vírgula\n",
        "description = data.describe()\n",
        "description"
      ],
      "metadata": {
        "colab": {
          "base_uri": "https://localhost:8080/"
        },
        "id": "6_xht5XdG4Jo",
        "outputId": "d01d8be3-3774-4c1f-f8d5-39f41cd4f71e"
      },
      "execution_count": null,
      "outputs": [
        {
          "output_type": "execute_result",
          "data": {
            "text/plain": [
              "       holinumber     temp  rain_1h  snow_1h  clouds_all  w_main_num  \\\n",
              "count     4.8e+04  48204.0  48204.0  4.8e+04     48204.0     48204.0   \n",
              "mean      7.7e-03    281.2      0.3  2.2e-04        49.4         1.9   \n",
              "std       2.5e-01     13.3     44.8  8.2e-03        39.0         2.2   \n",
              "min       0.0e+00      0.0      0.0  0.0e+00         0.0         0.0   \n",
              "25%       0.0e+00    272.2      0.0  0.0e+00         1.0         0.0   \n",
              "50%       0.0e+00    282.4      0.0  0.0e+00        64.0         1.0   \n",
              "75%       0.0e+00    291.8      0.0  0.0e+00        90.0         4.0   \n",
              "max       1.1e+01    310.1   9831.3  5.1e-01       100.0         7.0   \n",
              "\n",
              "       traffic_volume  \n",
              "count         48204.0  \n",
              "mean           3259.8  \n",
              "std            1986.9  \n",
              "min               0.0  \n",
              "25%            1193.0  \n",
              "50%            3380.0  \n",
              "75%            4933.0  \n",
              "max            7280.0  "
            ],
            "text/html": [
              "\n",
              "  <div id=\"df-b679b1a9-c46c-47a4-b1c6-e6654ada4332\">\n",
              "    <div class=\"colab-df-container\">\n",
              "      <div>\n",
              "<style scoped>\n",
              "    .dataframe tbody tr th:only-of-type {\n",
              "        vertical-align: middle;\n",
              "    }\n",
              "\n",
              "    .dataframe tbody tr th {\n",
              "        vertical-align: top;\n",
              "    }\n",
              "\n",
              "    .dataframe thead th {\n",
              "        text-align: right;\n",
              "    }\n",
              "</style>\n",
              "<table border=\"1\" class=\"dataframe\">\n",
              "  <thead>\n",
              "    <tr style=\"text-align: right;\">\n",
              "      <th></th>\n",
              "      <th>holinumber</th>\n",
              "      <th>temp</th>\n",
              "      <th>rain_1h</th>\n",
              "      <th>snow_1h</th>\n",
              "      <th>clouds_all</th>\n",
              "      <th>w_main_num</th>\n",
              "      <th>traffic_volume</th>\n",
              "    </tr>\n",
              "  </thead>\n",
              "  <tbody>\n",
              "    <tr>\n",
              "      <th>count</th>\n",
              "      <td>4.8e+04</td>\n",
              "      <td>48204.0</td>\n",
              "      <td>48204.0</td>\n",
              "      <td>4.8e+04</td>\n",
              "      <td>48204.0</td>\n",
              "      <td>48204.0</td>\n",
              "      <td>48204.0</td>\n",
              "    </tr>\n",
              "    <tr>\n",
              "      <th>mean</th>\n",
              "      <td>7.7e-03</td>\n",
              "      <td>281.2</td>\n",
              "      <td>0.3</td>\n",
              "      <td>2.2e-04</td>\n",
              "      <td>49.4</td>\n",
              "      <td>1.9</td>\n",
              "      <td>3259.8</td>\n",
              "    </tr>\n",
              "    <tr>\n",
              "      <th>std</th>\n",
              "      <td>2.5e-01</td>\n",
              "      <td>13.3</td>\n",
              "      <td>44.8</td>\n",
              "      <td>8.2e-03</td>\n",
              "      <td>39.0</td>\n",
              "      <td>2.2</td>\n",
              "      <td>1986.9</td>\n",
              "    </tr>\n",
              "    <tr>\n",
              "      <th>min</th>\n",
              "      <td>0.0e+00</td>\n",
              "      <td>0.0</td>\n",
              "      <td>0.0</td>\n",
              "      <td>0.0e+00</td>\n",
              "      <td>0.0</td>\n",
              "      <td>0.0</td>\n",
              "      <td>0.0</td>\n",
              "    </tr>\n",
              "    <tr>\n",
              "      <th>25%</th>\n",
              "      <td>0.0e+00</td>\n",
              "      <td>272.2</td>\n",
              "      <td>0.0</td>\n",
              "      <td>0.0e+00</td>\n",
              "      <td>1.0</td>\n",
              "      <td>0.0</td>\n",
              "      <td>1193.0</td>\n",
              "    </tr>\n",
              "    <tr>\n",
              "      <th>50%</th>\n",
              "      <td>0.0e+00</td>\n",
              "      <td>282.4</td>\n",
              "      <td>0.0</td>\n",
              "      <td>0.0e+00</td>\n",
              "      <td>64.0</td>\n",
              "      <td>1.0</td>\n",
              "      <td>3380.0</td>\n",
              "    </tr>\n",
              "    <tr>\n",
              "      <th>75%</th>\n",
              "      <td>0.0e+00</td>\n",
              "      <td>291.8</td>\n",
              "      <td>0.0</td>\n",
              "      <td>0.0e+00</td>\n",
              "      <td>90.0</td>\n",
              "      <td>4.0</td>\n",
              "      <td>4933.0</td>\n",
              "    </tr>\n",
              "    <tr>\n",
              "      <th>max</th>\n",
              "      <td>1.1e+01</td>\n",
              "      <td>310.1</td>\n",
              "      <td>9831.3</td>\n",
              "      <td>5.1e-01</td>\n",
              "      <td>100.0</td>\n",
              "      <td>7.0</td>\n",
              "      <td>7280.0</td>\n",
              "    </tr>\n",
              "  </tbody>\n",
              "</table>\n",
              "</div>\n",
              "      <button class=\"colab-df-convert\" onclick=\"convertToInteractive('df-b679b1a9-c46c-47a4-b1c6-e6654ada4332')\"\n",
              "              title=\"Convert this dataframe to an interactive table.\"\n",
              "              style=\"display:none;\">\n",
              "        \n",
              "  <svg xmlns=\"http://www.w3.org/2000/svg\" height=\"24px\"viewBox=\"0 0 24 24\"\n",
              "       width=\"24px\">\n",
              "    <path d=\"M0 0h24v24H0V0z\" fill=\"none\"/>\n",
              "    <path d=\"M18.56 5.44l.94 2.06.94-2.06 2.06-.94-2.06-.94-.94-2.06-.94 2.06-2.06.94zm-11 1L8.5 8.5l.94-2.06 2.06-.94-2.06-.94L8.5 2.5l-.94 2.06-2.06.94zm10 10l.94 2.06.94-2.06 2.06-.94-2.06-.94-.94-2.06-.94 2.06-2.06.94z\"/><path d=\"M17.41 7.96l-1.37-1.37c-.4-.4-.92-.59-1.43-.59-.52 0-1.04.2-1.43.59L10.3 9.45l-7.72 7.72c-.78.78-.78 2.05 0 2.83L4 21.41c.39.39.9.59 1.41.59.51 0 1.02-.2 1.41-.59l7.78-7.78 2.81-2.81c.8-.78.8-2.07 0-2.86zM5.41 20L4 18.59l7.72-7.72 1.47 1.35L5.41 20z\"/>\n",
              "  </svg>\n",
              "      </button>\n",
              "      \n",
              "  <style>\n",
              "    .colab-df-container {\n",
              "      display:flex;\n",
              "      flex-wrap:wrap;\n",
              "      gap: 12px;\n",
              "    }\n",
              "\n",
              "    .colab-df-convert {\n",
              "      background-color: #E8F0FE;\n",
              "      border: none;\n",
              "      border-radius: 50%;\n",
              "      cursor: pointer;\n",
              "      display: none;\n",
              "      fill: #1967D2;\n",
              "      height: 32px;\n",
              "      padding: 0 0 0 0;\n",
              "      width: 32px;\n",
              "    }\n",
              "\n",
              "    .colab-df-convert:hover {\n",
              "      background-color: #E2EBFA;\n",
              "      box-shadow: 0px 1px 2px rgba(60, 64, 67, 0.3), 0px 1px 3px 1px rgba(60, 64, 67, 0.15);\n",
              "      fill: #174EA6;\n",
              "    }\n",
              "\n",
              "    [theme=dark] .colab-df-convert {\n",
              "      background-color: #3B4455;\n",
              "      fill: #D2E3FC;\n",
              "    }\n",
              "\n",
              "    [theme=dark] .colab-df-convert:hover {\n",
              "      background-color: #434B5C;\n",
              "      box-shadow: 0px 1px 3px 1px rgba(0, 0, 0, 0.15);\n",
              "      filter: drop-shadow(0px 1px 2px rgba(0, 0, 0, 0.3));\n",
              "      fill: #FFFFFF;\n",
              "    }\n",
              "  </style>\n",
              "\n",
              "      <script>\n",
              "        const buttonEl =\n",
              "          document.querySelector('#df-b679b1a9-c46c-47a4-b1c6-e6654ada4332 button.colab-df-convert');\n",
              "        buttonEl.style.display =\n",
              "          google.colab.kernel.accessAllowed ? 'block' : 'none';\n",
              "\n",
              "        async function convertToInteractive(key) {\n",
              "          const element = document.querySelector('#df-b679b1a9-c46c-47a4-b1c6-e6654ada4332');\n",
              "          const dataTable =\n",
              "            await google.colab.kernel.invokeFunction('convertToInteractive',\n",
              "                                                     [key], {});\n",
              "          if (!dataTable) return;\n",
              "\n",
              "          const docLinkHtml = 'Like what you see? Visit the ' +\n",
              "            '<a target=\"_blank\" href=https://colab.research.google.com/notebooks/data_table.ipynb>data table notebook</a>'\n",
              "            + ' to learn more about interactive tables.';\n",
              "          element.innerHTML = '';\n",
              "          dataTable['output_type'] = 'display_data';\n",
              "          await google.colab.output.renderOutput(dataTable, element);\n",
              "          const docLink = document.createElement('div');\n",
              "          docLink.innerHTML = docLinkHtml;\n",
              "          element.appendChild(docLink);\n",
              "        }\n",
              "      </script>\n",
              "    </div>\n",
              "  </div>\n",
              "  "
            ]
          },
          "metadata": {},
          "execution_count": 9
        }
      ]
    },
    {
      "cell_type": "code",
      "source": [
        "#mostra a correlação entre os atributos\n",
        "set_option('precision', 2) #precisão de duas casas decimais após a vírgula\n",
        "#métodos podem ser: pearson, spearman ou kendall\n",
        "correlations = data.corr(method = 'pearson')\n",
        "correlations"
      ],
      "metadata": {
        "colab": {
          "base_uri": "https://localhost:8080/"
        },
        "id": "m6C7pE53IucG",
        "outputId": "7b732733-b22a-48bb-940d-03967e06e4c4"
      },
      "execution_count": null,
      "outputs": [
        {
          "output_type": "execute_result",
          "data": {
            "text/plain": [
              "                holinumber      temp   rain_1h   snow_1h  clouds_all  \\\n",
              "holinumber        1.00e+00 -2.91e-03 -1.67e-04 -8.59e-04   -5.67e-03   \n",
              "temp             -2.91e-03  1.00e+00  9.07e-03 -1.98e-02   -1.02e-01   \n",
              "rain_1h          -1.67e-04  9.07e-03  1.00e+00 -8.98e-05    4.82e-03   \n",
              "snow_1h          -8.59e-04 -1.98e-02 -8.98e-05  1.00e+00    2.79e-02   \n",
              "clouds_all       -5.67e-03 -1.02e-01  4.82e-03  2.79e-02    1.00e+00   \n",
              "w_main_num        4.24e-03 -1.34e-01  2.39e-03  4.15e-02    2.61e-01   \n",
              "traffic_volume   -3.78e-02  1.30e-01  4.71e-03  7.33e-04    6.71e-02   \n",
              "\n",
              "                w_main_num  traffic_volume  \n",
              "holinumber        4.24e-03       -3.78e-02  \n",
              "temp             -1.34e-01        1.30e-01  \n",
              "rain_1h           2.39e-03        4.71e-03  \n",
              "snow_1h           4.15e-02        7.33e-04  \n",
              "clouds_all        2.61e-01        6.71e-02  \n",
              "w_main_num        1.00e+00       -8.64e-02  \n",
              "traffic_volume   -8.64e-02        1.00e+00  "
            ],
            "text/html": [
              "\n",
              "  <div id=\"df-10ff3b58-5cdb-4fe8-97be-30d682b21c44\">\n",
              "    <div class=\"colab-df-container\">\n",
              "      <div>\n",
              "<style scoped>\n",
              "    .dataframe tbody tr th:only-of-type {\n",
              "        vertical-align: middle;\n",
              "    }\n",
              "\n",
              "    .dataframe tbody tr th {\n",
              "        vertical-align: top;\n",
              "    }\n",
              "\n",
              "    .dataframe thead th {\n",
              "        text-align: right;\n",
              "    }\n",
              "</style>\n",
              "<table border=\"1\" class=\"dataframe\">\n",
              "  <thead>\n",
              "    <tr style=\"text-align: right;\">\n",
              "      <th></th>\n",
              "      <th>holinumber</th>\n",
              "      <th>temp</th>\n",
              "      <th>rain_1h</th>\n",
              "      <th>snow_1h</th>\n",
              "      <th>clouds_all</th>\n",
              "      <th>w_main_num</th>\n",
              "      <th>traffic_volume</th>\n",
              "    </tr>\n",
              "  </thead>\n",
              "  <tbody>\n",
              "    <tr>\n",
              "      <th>holinumber</th>\n",
              "      <td>1.00e+00</td>\n",
              "      <td>-2.91e-03</td>\n",
              "      <td>-1.67e-04</td>\n",
              "      <td>-8.59e-04</td>\n",
              "      <td>-5.67e-03</td>\n",
              "      <td>4.24e-03</td>\n",
              "      <td>-3.78e-02</td>\n",
              "    </tr>\n",
              "    <tr>\n",
              "      <th>temp</th>\n",
              "      <td>-2.91e-03</td>\n",
              "      <td>1.00e+00</td>\n",
              "      <td>9.07e-03</td>\n",
              "      <td>-1.98e-02</td>\n",
              "      <td>-1.02e-01</td>\n",
              "      <td>-1.34e-01</td>\n",
              "      <td>1.30e-01</td>\n",
              "    </tr>\n",
              "    <tr>\n",
              "      <th>rain_1h</th>\n",
              "      <td>-1.67e-04</td>\n",
              "      <td>9.07e-03</td>\n",
              "      <td>1.00e+00</td>\n",
              "      <td>-8.98e-05</td>\n",
              "      <td>4.82e-03</td>\n",
              "      <td>2.39e-03</td>\n",
              "      <td>4.71e-03</td>\n",
              "    </tr>\n",
              "    <tr>\n",
              "      <th>snow_1h</th>\n",
              "      <td>-8.59e-04</td>\n",
              "      <td>-1.98e-02</td>\n",
              "      <td>-8.98e-05</td>\n",
              "      <td>1.00e+00</td>\n",
              "      <td>2.79e-02</td>\n",
              "      <td>4.15e-02</td>\n",
              "      <td>7.33e-04</td>\n",
              "    </tr>\n",
              "    <tr>\n",
              "      <th>clouds_all</th>\n",
              "      <td>-5.67e-03</td>\n",
              "      <td>-1.02e-01</td>\n",
              "      <td>4.82e-03</td>\n",
              "      <td>2.79e-02</td>\n",
              "      <td>1.00e+00</td>\n",
              "      <td>2.61e-01</td>\n",
              "      <td>6.71e-02</td>\n",
              "    </tr>\n",
              "    <tr>\n",
              "      <th>w_main_num</th>\n",
              "      <td>4.24e-03</td>\n",
              "      <td>-1.34e-01</td>\n",
              "      <td>2.39e-03</td>\n",
              "      <td>4.15e-02</td>\n",
              "      <td>2.61e-01</td>\n",
              "      <td>1.00e+00</td>\n",
              "      <td>-8.64e-02</td>\n",
              "    </tr>\n",
              "    <tr>\n",
              "      <th>traffic_volume</th>\n",
              "      <td>-3.78e-02</td>\n",
              "      <td>1.30e-01</td>\n",
              "      <td>4.71e-03</td>\n",
              "      <td>7.33e-04</td>\n",
              "      <td>6.71e-02</td>\n",
              "      <td>-8.64e-02</td>\n",
              "      <td>1.00e+00</td>\n",
              "    </tr>\n",
              "  </tbody>\n",
              "</table>\n",
              "</div>\n",
              "      <button class=\"colab-df-convert\" onclick=\"convertToInteractive('df-10ff3b58-5cdb-4fe8-97be-30d682b21c44')\"\n",
              "              title=\"Convert this dataframe to an interactive table.\"\n",
              "              style=\"display:none;\">\n",
              "        \n",
              "  <svg xmlns=\"http://www.w3.org/2000/svg\" height=\"24px\"viewBox=\"0 0 24 24\"\n",
              "       width=\"24px\">\n",
              "    <path d=\"M0 0h24v24H0V0z\" fill=\"none\"/>\n",
              "    <path d=\"M18.56 5.44l.94 2.06.94-2.06 2.06-.94-2.06-.94-.94-2.06-.94 2.06-2.06.94zm-11 1L8.5 8.5l.94-2.06 2.06-.94-2.06-.94L8.5 2.5l-.94 2.06-2.06.94zm10 10l.94 2.06.94-2.06 2.06-.94-2.06-.94-.94-2.06-.94 2.06-2.06.94z\"/><path d=\"M17.41 7.96l-1.37-1.37c-.4-.4-.92-.59-1.43-.59-.52 0-1.04.2-1.43.59L10.3 9.45l-7.72 7.72c-.78.78-.78 2.05 0 2.83L4 21.41c.39.39.9.59 1.41.59.51 0 1.02-.2 1.41-.59l7.78-7.78 2.81-2.81c.8-.78.8-2.07 0-2.86zM5.41 20L4 18.59l7.72-7.72 1.47 1.35L5.41 20z\"/>\n",
              "  </svg>\n",
              "      </button>\n",
              "      \n",
              "  <style>\n",
              "    .colab-df-container {\n",
              "      display:flex;\n",
              "      flex-wrap:wrap;\n",
              "      gap: 12px;\n",
              "    }\n",
              "\n",
              "    .colab-df-convert {\n",
              "      background-color: #E8F0FE;\n",
              "      border: none;\n",
              "      border-radius: 50%;\n",
              "      cursor: pointer;\n",
              "      display: none;\n",
              "      fill: #1967D2;\n",
              "      height: 32px;\n",
              "      padding: 0 0 0 0;\n",
              "      width: 32px;\n",
              "    }\n",
              "\n",
              "    .colab-df-convert:hover {\n",
              "      background-color: #E2EBFA;\n",
              "      box-shadow: 0px 1px 2px rgba(60, 64, 67, 0.3), 0px 1px 3px 1px rgba(60, 64, 67, 0.15);\n",
              "      fill: #174EA6;\n",
              "    }\n",
              "\n",
              "    [theme=dark] .colab-df-convert {\n",
              "      background-color: #3B4455;\n",
              "      fill: #D2E3FC;\n",
              "    }\n",
              "\n",
              "    [theme=dark] .colab-df-convert:hover {\n",
              "      background-color: #434B5C;\n",
              "      box-shadow: 0px 1px 3px 1px rgba(0, 0, 0, 0.15);\n",
              "      filter: drop-shadow(0px 1px 2px rgba(0, 0, 0, 0.3));\n",
              "      fill: #FFFFFF;\n",
              "    }\n",
              "  </style>\n",
              "\n",
              "      <script>\n",
              "        const buttonEl =\n",
              "          document.querySelector('#df-10ff3b58-5cdb-4fe8-97be-30d682b21c44 button.colab-df-convert');\n",
              "        buttonEl.style.display =\n",
              "          google.colab.kernel.accessAllowed ? 'block' : 'none';\n",
              "\n",
              "        async function convertToInteractive(key) {\n",
              "          const element = document.querySelector('#df-10ff3b58-5cdb-4fe8-97be-30d682b21c44');\n",
              "          const dataTable =\n",
              "            await google.colab.kernel.invokeFunction('convertToInteractive',\n",
              "                                                     [key], {});\n",
              "          if (!dataTable) return;\n",
              "\n",
              "          const docLinkHtml = 'Like what you see? Visit the ' +\n",
              "            '<a target=\"_blank\" href=https://colab.research.google.com/notebooks/data_table.ipynb>data table notebook</a>'\n",
              "            + ' to learn more about interactive tables.';\n",
              "          element.innerHTML = '';\n",
              "          dataTable['output_type'] = 'display_data';\n",
              "          await google.colab.output.renderOutput(dataTable, element);\n",
              "          const docLink = document.createElement('div');\n",
              "          docLink.innerHTML = docLinkHtml;\n",
              "          element.appendChild(docLink);\n",
              "        }\n",
              "      </script>\n",
              "    </div>\n",
              "  </div>\n",
              "  "
            ]
          },
          "metadata": {},
          "execution_count": 10
        }
      ]
    },
    {
      "cell_type": "code",
      "source": [
        "#mostra a distorção (obliquidade) das distribuições univariadas\n",
        "skew = data.skew(numeric_only=True)\n",
        "skew"
      ],
      "metadata": {
        "colab": {
          "base_uri": "https://localhost:8080/"
        },
        "id": "CEQpT7B1JNnT",
        "outputId": "69b0dc24-5b1b-4fc7-8895-28c0153e5f1e"
      },
      "execution_count": null,
      "outputs": [
        {
          "output_type": "execute_result",
          "data": {
            "text/plain": [
              "holinumber         35.55\n",
              "temp               -2.25\n",
              "rain_1h           219.39\n",
              "snow_1h            48.37\n",
              "clouds_all         -0.20\n",
              "w_main_num          1.11\n",
              "traffic_volume     -0.09\n",
              "dtype: float64"
            ]
          },
          "metadata": {},
          "execution_count": 11
        }
      ]
    },
    {
      "cell_type": "markdown",
      "source": [
        "## 2.3 Visualizar Dados"
      ],
      "metadata": {
        "id": "GMzLnmDU8coc"
      }
    },
    {
      "cell_type": "markdown",
      "source": [
        "### 2.3.1 Gráficos Univariados"
      ],
      "metadata": {
        "id": "eU35sYt_KayC"
      }
    },
    {
      "cell_type": "markdown",
      "source": [
        "#### 2.3.1.1 Histograma"
      ],
      "metadata": {
        "id": "HtNYlzkiKh0l"
      }
    },
    {
      "cell_type": "code",
      "source": [
        "data.hist(sharex=False, sharey=False, xlabelsize=1, ylabelsize=1)\n",
        "pyplot.show()"
      ],
      "metadata": {
        "colab": {
          "base_uri": "https://localhost:8080/"
        },
        "id": "tbXJ_VgCKmRW",
        "outputId": "b233ccbc-9261-40d5-9121-953a7203484d"
      },
      "execution_count": null,
      "outputs": [
        {
          "output_type": "display_data",
          "data": {
            "text/plain": [
              "<Figure size 432x288 with 9 Axes>"
            ],
            "image/png": "[encoded data removed]"
          },
          "metadata": {
            "needs_background": "light"
          }
        }
      ]
    },
    {
      "cell_type": "markdown",
      "source": [
        "#### 2.3.1.2 Gráficos de Densidade"
      ],
      "metadata": {
        "id": "VQ2u6GHOK2ex"
      }
    },
    {
      "cell_type": "code",
      "source": [
        "#gráficos de densidade\n",
        "#atenção ao layout para caberem todos os gráficos (x * y >= n° de atributos)\n",
        "data.plot(figsize=(16, 16), kind='density', subplots=True, layout=(3,3), sharex=False, sharey=False)\n",
        "pyplot.show()"
      ],
      "metadata": {
        "colab": {
          "base_uri": "https://localhost:8080/"
        },
        "id": "CFq05ZSRK7F1",
        "outputId": "495e06db-342e-49e9-cb12-f625489b4836"
      },
      "execution_count": null,
      "outputs": [
        {
          "output_type": "display_data",
          "data": {
            "text/plain": [
              "<Figure size 1152x1152 with 9 Axes>"
            ],
            "image/png": "[encoded data removed]"
          },
          "metadata": {
            "needs_background": "light"
          }
        }
      ]
    },
    {
      "cell_type": "markdown",
      "source": [
        "#### 2.3.1.3 Box Plot"
      ],
      "metadata": {
        "id": "QveZ7o6jLfbf"
      }
    },
    {
      "cell_type": "code",
      "source": [
        "#box plot\n",
        "#atenção ao layout 5,para caberem todos os gráficos (x * y >= n° de atributos)\n",
        "data.plot(figsize=(16,16), kind='box', subplots=True, layout=(3,3), sharex=False, sharey=False, fontsize=8)\n",
        "pyplot.show()"
      ],
      "metadata": {
        "colab": {
          "base_uri": "https://localhost:8080/"
        },
        "id": "Rf61CicALjFE",
        "outputId": "6a76570c-a881-4fbd-9939-73f30530157e"
      },
      "execution_count": null,
      "outputs": [
        {
          "output_type": "display_data",
          "data": {
            "text/plain": [
              "<Figure size 1152x1152 with 9 Axes>"
            ],
            "image/png": "[encoded data removed]"
          },
          "metadata": {
            "needs_background": "light"
          }
        }
      ]
    },
    {
      "cell_type": "markdown",
      "source": [
        "### 2.3.2 Gráficos Multivariados"
      ],
      "metadata": {
        "id": "G1qSMOoCL4oj"
      }
    },
    {
      "cell_type": "markdown",
      "source": [
        "#### 2.3.2.1 Matriz de Correlação"
      ],
      "metadata": {
        "id": "MpF20bDIL-tk"
      }
    },
    {
      "cell_type": "code",
      "source": [
        "#matriz de correlação\n",
        "#corr = 1 atributos diretamente correlacionados\n",
        "#corr = 0 atributos não relacionados\n",
        "#corr = -1 atributos inversamente correlacionados\n",
        "fig = pyplot.figure()\n",
        "ax = fig.add_subplot(111)\n",
        "cax = ax.matshow(correlations, vmin=-1, vmax=1, interpolation='none')\n",
        "fig.colorbar(cax)\n",
        "ticks = numpy.arange(0,9,1)\n",
        "ax.set_xticks(ticks)\n",
        "ax.set_yticks(ticks)\n",
        "ax.set_xticklabels(columns)\n",
        "ax.set_yticklabels(columns)\n",
        "pyplot.show()"
      ],
      "metadata": {
        "colab": {
          "base_uri": "https://localhost:8080/"
        },
        "id": "-4HX8kRXMIEU",
        "outputId": "b489cc04-3977-4ce1-ac47-a45754ff2d9f"
      },
      "execution_count": null,
      "outputs": [
        {
          "output_type": "display_data",
          "data": {
            "text/plain": [
              "<Figure size 432x288 with 2 Axes>"
            ],
            "image/png": "[encoded data removed]"
          },
          "metadata": {
            "needs_background": "light"
          }
        }
      ]
    },
    {
      "cell_type": "markdown",
      "source": [
        "#### 2.3.2.2 Scatter Plot"
      ],
      "metadata": {
        "id": "3fgG00GtOoCU"
      }
    },
    {
      "cell_type": "code",
      "source": [
        "scatter_matrix(data)\n",
        "pyplot.show()"
      ],
      "metadata": {
        "colab": {
          "base_uri": "https://localhost:8080/"
        },
        "id": "4tSgzEvNOtI7",
        "outputId": "aacbad69-75f8-4d43-9e9f-0bede0f8b485"
      },
      "execution_count": null,
      "outputs": [
        {
          "output_type": "display_data",
          "data": {
            "text/plain": [
              "<Figure size 432x288 with 49 Axes>"
            ],
            "image/png": "[encoded data removed]"
          },
          "metadata": {
            "needs_background": "light"
          }
        }
      ]
    },
    {
      "cell_type": "markdown",
      "source": [
        "## 2.4 Preparar Dados"
      ],
      "metadata": {
        "id": "r6NsoumR7rNk"
      }
    },
    {
      "cell_type": "markdown",
      "source": [
        "### 2.4.1 Padronizar Dados"
      ],
      "metadata": {
        "id": "5odH8NZtf72t"
      }
    },
    {
      "cell_type": "code",
      "source": [
        "#dispõe os dados em forma de array\n",
        "array = data.values\n",
        "\n",
        "#fatia os dados em um conjunto de inputs X e outro de output y\n",
        "X = array[ : , :5]\n",
        "y = array[ : , 10]\n",
        "\n",
        "#padroniza os dados (fit and transform)\n",
        "scaler = StandardScaler().fit(X)\n",
        "X = scaler.transform(X)\n",
        "\n",
        "#imprime os dados padronizados\n",
        "set_printoptions(precision=3) #precisão de três casas decimais após a vírgula\n",
        "print(X)\n",
        "print(y)"
      ],
      "metadata": {
        "id": "pEwmggsVCvLs",
        "colab": {
          "base_uri": "https://localhost:8080/"
        },
        "outputId": "f996d7c2-1cff-4f1a-f60b-e6b970b9526b"
      },
      "execution_count": null,
      "outputs": [
        {
          "output_type": "stream",
          "name": "stdout",
          "text": [
            "[[-0.032  0.53  -0.007 -0.027 -0.24 ]\n",
            " [-0.032  0.611 -0.007 -0.027  0.657]\n",
            " [-0.032  0.628 -0.007 -0.027  1.042]\n",
            " ...\n",
            " [-0.032  0.114 -0.007 -0.027  1.042]\n",
            " [-0.032  0.066 -0.007 -0.027  1.042]\n",
            " [-0.032  0.069 -0.007 -0.027  1.042]]\n",
            "[5545 4516 4767 ... 2159 1450 954]\n"
          ]
        }
      ]
    },
    {
      "cell_type": "markdown",
      "source": [
        "### 2.4.2 Reduzir Dados"
      ],
      "metadata": {
        "id": "UjnsGg8erVg9"
      }
    },
    {
      "cell_type": "markdown",
      "source": [
        "### 2.4.3 Fatiar Dados\n",
        "Separa um conjunto de dados para o treinamento e um outro conjunto de dados para os testes."
      ],
      "metadata": {
        "id": "pGN4nTqn-1kx"
      }
    },
    {
      "cell_type": "code",
      "source": [
        "#From documentation: split array or matrix into random train and test subsets\n",
        "X_train, X_test, y_train, y_test = train_test_split(X, y, test_size=test_size, random_state=seed)"
      ],
      "metadata": {
        "id": "7vx0aMLeiA1f"
      },
      "execution_count": null,
      "outputs": []
    },
    {
      "cell_type": "markdown",
      "source": [
        "#3. Algoritmos\n",
        "---"
      ],
      "metadata": {
        "id": "xdYFNPiu8upe"
      }
    },
    {
      "cell_type": "markdown",
      "source": [
        "## 3.1 Avaliar Algoritmos"
      ],
      "metadata": {
        "id": "KemQwujur4fg"
      }
    },
    {
      "cell_type": "markdown",
      "source": [
        "### 3.1.1 Selecionar Algoritmos"
      ],
      "metadata": {
        "id": "ElEPb0hvCB-D"
      }
    },
    {
      "cell_type": "code",
      "source": [
        "#seleção de algoritmos\n",
        "models = []\n",
        "models.append(('LR', LinearRegression()))\n",
        "models.append(('LASSO', Lasso()))\n",
        "models.append(('EN', ElasticNet()))\n",
        "models.append(('KNN', KNeighborsRegressor()))\n",
        "models.append(('CART', DecisionTreeRegressor()))\n",
        "#models.append(('SVR', SVR()))\n",
        "\n",
        "models"
      ],
      "metadata": {
        "id": "JJXZfFWrrxz6",
        "colab": {
          "base_uri": "https://localhost:8080/"
        },
        "outputId": "0b58c404-5514-4220-ce4e-7321e3be948d"
      },
      "execution_count": null,
      "outputs": [
        {
          "output_type": "execute_result",
          "data": {
            "text/plain": [
              "[('LR', LinearRegression()),\n",
              " ('LASSO', Lasso()),\n",
              " ('EN', ElasticNet()),\n",
              " ('KNN', KNeighborsRegressor()),\n",
              " ('CART', DecisionTreeRegressor())]"
            ]
          },
          "metadata": {},
          "execution_count": 19
        }
      ]
    },
    {
      "cell_type": "markdown",
      "source": [
        "### 3.1.2 Comparar Algoritmos"
      ],
      "metadata": {
        "id": "lPBv6fxfxCgA"
      }
    },
    {
      "cell_type": "code",
      "source": [
        "#lista dos nomes dos algoritmos\n",
        "names = []\n",
        "#lista dos resultados dos algoritmos\n",
        "results = []\n",
        "\n",
        "print(f\" {'Algoritmo'} | {'Média':<8} | {'Desvio'}\")\n",
        "print(32 * '-')\n",
        "\n",
        "for name, model in models:\n",
        "  kfold = KFold(n_splits=num_folds, random_state=seed, shuffle=True)\n",
        "  cv_results = cross_val_score(model, X_train, y_train, cv=kfold, scoring=scoring)\n",
        "\n",
        "  #imprimir nome do algoritmo, média e desvio padrão\n",
        "  msg = f\" {name:<9} | {cv_results.mean():.4f} | {cv_results.std():.4f}\"\n",
        "  print(msg)\n",
        "  print(32 * '-')\n",
        "\n",
        "  #insere nome do algoritmo na lista names\n",
        "  names.append(name)\n",
        "  #insere resultado do algoritmo na lista results\n",
        "  results.append(cv_results)"
      ],
      "metadata": {
        "colab": {
          "base_uri": "https://localhost:8080/"
        },
        "id": "ZP9NL6hLhXNX",
        "outputId": "9f757338-19b6-4832-9a3b-1d3a3f4db391"
      },
      "execution_count": null,
      "outputs": [
        {
          "output_type": "stream",
          "name": "stdout",
          "text": [
            " Algoritmo | Média    | Desvio\n",
            "--------------------------------\n",
            " LR        | -22750523.9975 | 56736763.4638\n",
            "--------------------------------\n",
            " LASSO     | -8127087.0808 | 12866630.1777\n",
            "--------------------------------\n",
            " EN        | -3851489.6693 | 38326.9324\n",
            "--------------------------------\n",
            " KNN       | -4005771.0853 | 65508.6899\n",
            "--------------------------------\n",
            " CART      | -4813433.2971 | 91744.9543\n",
            "--------------------------------\n",
            " SVR       | -3843413.6131 | 41908.8616\n",
            "--------------------------------\n"
          ]
        }
      ]
    },
    {
      "cell_type": "markdown",
      "source": [
        "### 3.1.3 Visualizar Comparação"
      ],
      "metadata": {
        "id": "QYu97_jph7ZK"
      }
    },
    {
      "cell_type": "code",
      "source": [
        "#comparação gráfica dos algoritmos\n",
        "fig = pyplot.figure()\n",
        "fig.suptitle('Comparação de Algoritmos')\n",
        "ax = fig.add_subplot(111)\n",
        "pyplot.boxplot(results)\n",
        "ax.set_xticklabels(names)\n",
        "pyplot.show()"
      ],
      "metadata": {
        "colab": {
          "base_uri": "https://localhost:8080/",
          "height": 294
        },
        "id": "HftXPu3ymc3T",
        "outputId": "f49c455d-fe28-422f-9265-3773c44a7292"
      },
      "execution_count": null,
      "outputs": [
        {
          "output_type": "display_data",
          "data": {
            "text/plain": [
              "<Figure size 432x288 with 1 Axes>"
            ],
            "image/png": "[encoded data removed]"
          },
          "metadata": {
            "needs_background": "light"
          }
        }
      ]
    },
    {
      "cell_type": "markdown",
      "source": [
        "## 3.2 Melhorar Desempenho do Melhor Algoritmo"
      ],
      "metadata": {
        "id": "m7CsQFPZngZn"
      }
    },
    {
      "cell_type": "markdown",
      "source": [
        "A seção anterior mostrou que dentre todos os algoritmos utilizados, KNN obteve o melhor resultado sobre os dados. Vamos tentar melhor um pouco mais o seu desempenho ajustando alguns de seus parâmetros. Mais especificamente vamos testar vários valores diferentes para grid / param_grid / k_values (explicar)."
      ],
      "metadata": {
        "id": "9-NQRkdZrux8"
      }
    },
    {
      "cell_type": "markdown",
      "source": [
        "### 3.2.1 Ajustar Parâmetros"
      ],
      "metadata": {
        "id": "cUsYhtUkkGDl"
      }
    },
    {
      "cell_type": "code",
      "source": [
        "k_values = numpy.array([1,3,5,7,9,11,13,15,17,19,21,23,24,25,27,29])\n",
        "\n",
        "#modelo que apresentou o melhor resultado\n",
        "model = ElasticNet()\n",
        "\n",
        "#ordena os parâmetros a serem testados\n",
        "param_grid = dict(n_neighbors=k_values)\n",
        "kfold = KFold(n_splits=num_folds, random_state=seed, shuffle=True)\n",
        "grid = GridSearchCV(estimator=model, param_grid=param_grid, scoring=scoring, cv=kfold)\n",
        "\n",
        "grid_result = grid.fit(X_train, y_train)"
      ],
      "metadata": {
        "id": "Yj5olcIDw12n"
      },
      "execution_count": null,
      "outputs": []
    },
    {
      "cell_type": "markdown",
      "source": [
        "### 3.2.2 Apresentar Resultados"
      ],
      "metadata": {
        "id": "3M852FHLBJFI"
      }
    },
    {
      "cell_type": "code",
      "source": [
        "#resultado dos testes com os diferentes parâmetros (n_neighbors / k_values)\n",
        "print(\"Melhor resultado: %f usando %s \\n\" % (grid_result.best_score_, grid_result.best_params_))\n",
        "\n",
        "means = grid_result.cv_results_['mean_test_score']\n",
        "stds = grid_result.cv_results_['std_test_score']\n",
        "params = grid_result.cv_results_['params']\n",
        "\n",
        "for mean, stdev, param in zip(means, stds, params):\n",
        "  print(\"%f (%f) >>> %r\" % (mean, stdev, param))"
      ],
      "metadata": {
        "colab": {
          "base_uri": "https://localhost:8080/"
        },
        "id": "GS3AI_WNofPV",
        "outputId": "f557f5a2-c32c-4646-f0d6-94e5e0b2e0e4"
      },
      "execution_count": null,
      "outputs": [
        {
          "output_type": "stream",
          "name": "stdout",
          "text": [
            "Melhor resultado: -17.798343 usando {'n_neighbors': 1} \n",
            "\n",
            "-17.798343 (11.855517) >>> {'n_neighbors': 1}\n",
            "-19.724398 (13.013086) >>> {'n_neighbors': 3}\n",
            "-21.234601 (14.678103) >>> {'n_neighbors': 5}\n",
            "-21.908162 (14.878562) >>> {'n_neighbors': 7}\n",
            "-20.901575 (14.874368) >>> {'n_neighbors': 9}\n",
            "-20.964099 (14.709432) >>> {'n_neighbors': 11}\n",
            "-21.171776 (14.510093) >>> {'n_neighbors': 13}\n",
            "-21.848382 (14.162750) >>> {'n_neighbors': 15}\n",
            "-22.639304 (14.510971) >>> {'n_neighbors': 17}\n",
            "-23.346438 (14.678070) >>> {'n_neighbors': 19}\n",
            "-24.004403 (14.923301) >>> {'n_neighbors': 21}\n",
            "-24.785894 (15.207430) >>> {'n_neighbors': 23}\n",
            "-25.184727 (15.324407) >>> {'n_neighbors': 24}\n",
            "-25.421165 (15.457568) >>> {'n_neighbors': 25}\n",
            "-26.105244 (15.897893) >>> {'n_neighbors': 27}\n",
            "-27.018320 (16.414491) >>> {'n_neighbors': 29}\n"
          ]
        }
      ]
    },
    {
      "cell_type": "markdown",
      "source": [
        "## 3.3 Avaliar Desempenho de Comitês de Algoritmos"
      ],
      "metadata": {
        "id": "adMwktvunnxf"
      }
    },
    {
      "cell_type": "markdown",
      "source": [
        "Para além do uso de algoritmos podemos (e devemos) avaliar o desempenho dos comitês de algoritmos para conferir se eles apresentam bons resultados."
      ],
      "metadata": {
        "id": "6VwSabQ_uP29"
      }
    },
    {
      "cell_type": "markdown",
      "source": [
        "### 3.3.1 Selecionar Comitês de Algoritmos"
      ],
      "metadata": {
        "id": "HOpTNP6vtlZ4"
      }
    },
    {
      "cell_type": "code",
      "source": [
        "#comitês\n",
        "ensembles = []\n",
        "\n",
        "#boosting\n",
        "ensembles.append(('ScaledAB', Pipeline([('Scaler', StandardScaler()),('AB', AdaBoostRegressor())])))\n",
        "ensembles.append(('ScaledGBM', Pipeline([('Scaler', StandardScaler()),('GBM', GradientBoostingRegressor())])))\n",
        "\n",
        "#bagging\n",
        "ensembles.append(('ScaledRF', Pipeline([('Scaler', StandardScaler()),('RF', RandomForestRegressor(n_estimators=10))])))\n",
        "ensembles.append(('ScaledET', Pipeline([('Scaler', StandardScaler()),('ET', ExtraTreesRegressor(n_estimators=10))])))"
      ],
      "metadata": {
        "id": "WEcGJ6uin7Vd"
      },
      "execution_count": null,
      "outputs": []
    },
    {
      "cell_type": "markdown",
      "source": [
        "---\n",
        "**Nota:**  \n",
        "Por que selecionamos esses comitês?"
      ],
      "metadata": {
        "id": "gPfT0iLMvCkz"
      }
    },
    {
      "cell_type": "markdown",
      "source": [
        "### 3.3.2 Comparar Comitês"
      ],
      "metadata": {
        "id": "J7FkrBqDtt52"
      }
    },
    {
      "cell_type": "code",
      "source": [
        "#lista dos nomes dos comitês\n",
        "names = []\n",
        "#lista dos resultados dos comitês\n",
        "results = []\n",
        "\n",
        "print(f\" {'Algoritmo'} | {'Média':<8} | {'Desvio'}\")\n",
        "print(32 * '-')\n",
        "\n",
        "for name, model in ensembles:\n",
        "  kfold = KFold(n_splits=num_folds, random_state=seed, shuffle=True)\n",
        "  cv_results = cross_val_score(model, X_train, y_train, cv=kfold, scoring=scoring)\n",
        "\n",
        "  #imprimir nome do algoritmo, média e desvio padrão\n",
        "  msg = f\" {name:<9} | {cv_results.mean():.4f} | {cv_results.std():.4f}\"\n",
        "  print(msg)\n",
        "  print(32 * '-')\n",
        "\n",
        "  #insere nome do algoritmo na lista names\n",
        "  names.append(name)\n",
        "  #insere resultado do algoritmo na lista results\n",
        "  results.append(cv_results)"
      ],
      "metadata": {
        "colab": {
          "base_uri": "https://localhost:8080/"
        },
        "id": "Iu28eKlGoX_I",
        "outputId": "8c585286-a4f5-44b1-9d6a-faeeb6b6dd94"
      },
      "execution_count": null,
      "outputs": [
        {
          "output_type": "stream",
          "name": "stdout",
          "text": [
            " Algoritmo | Média    | Desvio\n",
            "--------------------------------\n",
            " ScaledAB  | -3711999.2770 | 36461.7002\n",
            "--------------------------------\n",
            " ScaledGBM | -3640419.7461 | 41784.7342\n",
            "--------------------------------\n",
            " ScaledRF  | -4146075.3530 | 87137.8363\n",
            "--------------------------------\n",
            " ScaledET  | -4434594.3482 | 72122.6310\n",
            "--------------------------------\n"
          ]
        }
      ]
    },
    {
      "cell_type": "markdown",
      "source": [
        "### 3.3.3 Visualizar Comparação"
      ],
      "metadata": {
        "id": "fGKGSoGUuRy1"
      }
    },
    {
      "cell_type": "code",
      "source": [
        "fig = pyplot.figure()\n",
        "fig.suptitle('Comparação dos Comitês')\n",
        "ax = fig.add_subplot(111)\n",
        "pyplot.boxplot(results)\n",
        "ax.set_xticklabels(names)\n",
        "pyplot.show()"
      ],
      "metadata": {
        "colab": {
          "base_uri": "https://localhost:8080/",
          "height": 294
        },
        "id": "D6KJYeM-o130",
        "outputId": "2a4068c1-7d0e-4567-91f8-815e786647cd"
      },
      "execution_count": null,
      "outputs": [
        {
          "output_type": "display_data",
          "data": {
            "text/plain": [
              "<Figure size 432x288 with 1 Axes>"
            ],
            "image/png": "[encoded data removed]"
          },
          "metadata": {
            "needs_background": "light"
          }
        }
      ]
    },
    {
      "cell_type": "markdown",
      "source": [
        "## 3.4 Melhorar Desempenho do Melhor Comitê"
      ],
      "metadata": {
        "id": "_hr5SOojpTv8"
      }
    },
    {
      "cell_type": "markdown",
      "source": [
        "A seção anterior mostrou que dentre todos os comitês utilizados, ET obteve o melhor resultado sobre os dados. Vamos tentar melhor um pouco mais o seu desempenho ajustando alguns de seus parâmetros. Mais especificamente vamos testar vários valores diferentes para grid / param_grid / k_values (explicar)."
      ],
      "metadata": {
        "id": "vgd5mpzVvK6K"
      }
    },
    {
      "cell_type": "markdown",
      "source": [
        "### 3.4.1 Ajustar Parâmetros\n"
      ],
      "metadata": {
        "id": "iByis9sqHeWu"
      }
    },
    {
      "cell_type": "code",
      "source": [
        "#refinar GBM\n",
        "param_grid = dict(n_estimators=numpy.array([50, 100, 150, 200, 250, 300, 400, 500, 600]))\n",
        "\n",
        "model = GradientBoostingRegressor(random_state=seed)\n",
        "\n",
        "kfold = KFold(n_splits=num_folds, random_state=seed, shuffle=True)\n",
        "grid = GridSearchCV(estimator=model, param_grid=param_grid, scoring=scoring, cv=kfold)\n",
        "\n",
        "grid_result = grid.fit(X_train, y_train)"
      ],
      "metadata": {
        "id": "m-QHCJVMpWBT"
      },
      "execution_count": null,
      "outputs": []
    },
    {
      "cell_type": "markdown",
      "source": [
        "### 3.4.2 Apresentar Resultados"
      ],
      "metadata": {
        "id": "Ad1Bv7dDHlq-"
      }
    },
    {
      "cell_type": "code",
      "source": [
        "#resultado\n",
        "print(\"Melhor resultado: %f usando %s \\n\" % (grid_result.best_score_, grid_result.best_params_))\n",
        "\n",
        "means = grid_result.cv_results_['mean_test_score']\n",
        "stds = grid_result.cv_results_['std_test_score']\n",
        "params = grid_result.cv_results_['params']\n",
        "\n",
        "for mean, stdev, param in zip(means, stds, params):\n",
        "  print(\"%f (%f) >>> %r\" % (mean, stdev, param))"
      ],
      "metadata": {
        "colab": {
          "base_uri": "https://localhost:8080/"
        },
        "id": "_1950HHWqb9i",
        "outputId": "2f28d556-1ea2-4284-bdff-f4e2e7510937"
      },
      "execution_count": null,
      "outputs": [
        {
          "output_type": "stream",
          "name": "stdout",
          "text": [
            "Melhor resultado: -3590677.288995 usando {'n_estimators': 600} \n",
            "\n",
            "-3659407.371289 (39464.985090) >>> {'n_estimators': 50}\n",
            "-3640437.547453 (41818.850652) >>> {'n_estimators': 100}\n",
            "-3627063.575368 (43253.522199) >>> {'n_estimators': 150}\n",
            "-3619435.525678 (44619.178654) >>> {'n_estimators': 200}\n",
            "-3612753.579117 (46287.240857) >>> {'n_estimators': 250}\n",
            "-3608230.767234 (46533.359821) >>> {'n_estimators': 300}\n",
            "-3600783.763953 (47399.944866) >>> {'n_estimators': 400}\n",
            "-3595973.650710 (48712.859053) >>> {'n_estimators': 500}\n",
            "-3590677.288995 (48078.785930) >>> {'n_estimators': 600}\n"
          ]
        }
      ]
    },
    {
      "cell_type": "markdown",
      "source": [
        "##4. Finalizar Modelo"
      ],
      "metadata": {
        "id": "q7F8seJyspvc"
      }
    },
    {
      "cell_type": "markdown",
      "source": [
        "## 4.1 Gravar Modelo"
      ],
      "metadata": {
        "id": "nYHqusW4Im63"
      }
    },
    {
      "cell_type": "code",
      "source": [
        "model = GradientBoostingRegressor(random_state=seed, n_estimators=150)\n",
        "model.fit(X_train, y_train)\n",
        "\n",
        "#gravar o modelo no disco\n",
        "filename = 'boston_model.sav'\n",
        "joblib.dump(model, filename)"
      ],
      "metadata": {
        "colab": {
          "base_uri": "https://localhost:8080/"
        },
        "id": "r4Pdmheussmj",
        "outputId": "ccc735ad-d158-4be5-df61-437591c2f9b7"
      },
      "execution_count": null,
      "outputs": [
        {
          "output_type": "execute_result",
          "data": {
            "text/plain": [
              "['boston_model.sav']"
            ]
          },
          "metadata": {},
          "execution_count": 24
        }
      ]
    },
    {
      "cell_type": "markdown",
      "source": [
        "## 4.2 Carregar Modelo"
      ],
      "metadata": {
        "id": "Ah1niuXdJI8M"
      }
    },
    {
      "cell_type": "code",
      "source": [
        "#carregar modelo do disco\n",
        "loaded_model = joblib.load(filename)"
      ],
      "metadata": {
        "id": "0BDKiT2IJMpS"
      },
      "execution_count": null,
      "outputs": []
    },
    {
      "cell_type": "markdown",
      "source": [
        "## 4.3 Usar Modelo"
      ],
      "metadata": {
        "id": "M6v2tgUWJgsW"
      }
    },
    {
      "cell_type": "markdown",
      "source": [
        "Vamos agora aplicar o modelo nos dados de teste ainda não utilizados."
      ],
      "metadata": {
        "id": "WUSB7El7wbeZ"
      }
    },
    {
      "cell_type": "code",
      "source": [
        "result = loaded_model.score(X_test, y_test)\n",
        "print(f'Score: {result}')\n",
        "\n",
        "prediction = loaded_model.predict(X_test)\n",
        "mean2error = mean_squared_error(y_test, prediction)\n",
        "print(f'Erro: {mean2error}')"
      ],
      "metadata": {
        "colab": {
          "base_uri": "https://localhost:8080/"
        },
        "id": "opEL9Yu6tMIY",
        "outputId": "87b68c70-56c4-426e-b526-f8fd90204de2"
      },
      "execution_count": null,
      "outputs": [
        {
          "output_type": "stream",
          "name": "stdout",
          "text": [
            "Score: 0.07973429608053129\n",
            "Erro: 3672647.6883176896\n"
          ]
        }
      ]
    }
  ]
}
